{
 "cells": [
  {
   "cell_type": "code",
   "execution_count": 1,
   "metadata": {},
   "outputs": [],
   "source": [
    "%load_ext autoreload\n",
    "%autoreload 2\n",
    "import sys\n",
    "#sys.path.append('..')"
   ]
  },
  {
   "cell_type": "code",
   "execution_count": 2,
   "metadata": {},
   "outputs": [
    {
     "name": "stdout",
     "output_type": "stream",
     "text": [
      "['C:\\\\Users\\\\Oliver\\\\Documents\\\\Academic\\\\Applied data analysis and machine learning\\\\Projects\\\\FYS-STK4155-project2\\\\notebooks', 'c:\\\\users\\\\oliver\\\\appdata\\\\local\\\\programs\\\\python\\\\python39\\\\python39.zip', 'c:\\\\users\\\\oliver\\\\appdata\\\\local\\\\programs\\\\python\\\\python39\\\\DLLs', 'c:\\\\users\\\\oliver\\\\appdata\\\\local\\\\programs\\\\python\\\\python39\\\\lib', 'c:\\\\users\\\\oliver\\\\appdata\\\\local\\\\programs\\\\python\\\\python39', '', 'c:\\\\users\\\\oliver\\\\appdata\\\\local\\\\programs\\\\python\\\\python39\\\\lib\\\\site-packages', 'c:\\\\users\\\\oliver\\\\appdata\\\\local\\\\programs\\\\python\\\\python39\\\\lib\\\\site-packages\\\\win32', 'c:\\\\users\\\\oliver\\\\appdata\\\\local\\\\programs\\\\python\\\\python39\\\\lib\\\\site-packages\\\\win32\\\\lib', 'c:\\\\users\\\\oliver\\\\appdata\\\\local\\\\programs\\\\python\\\\python39\\\\lib\\\\site-packages\\\\Pythonwin', 'c:\\\\users\\\\oliver\\\\appdata\\\\local\\\\programs\\\\python\\\\python39\\\\lib\\\\site-packages\\\\IPython\\\\extensions', 'C:\\\\Users\\\\Oliver\\\\.ipython', '../', '../src/']\n"
     ]
    }
   ],
   "source": [
    "sys.path.append('../')\n",
    "sys.path.append('../src/')\n",
    "print(sys.path)"
   ]
  },
  {
   "cell_type": "code",
   "execution_count": 166,
   "metadata": {},
   "outputs": [],
   "source": [
    "from src.data.create_dataset import *\n",
    "from src.visualization.visualize import *\n",
    "from sklearn.model_selection import  train_test_split\n",
    "from sklearn.preprocessing import StandardScaler"
   ]
  },
  {
   "cell_type": "code",
   "execution_count": 167,
   "metadata": {},
   "outputs": [],
   "source": [
    "from sklearn.datasets import load_breast_cancer\n",
    "from sklearn.linear_model import LogisticRegression\n",
    "cancer = load_breast_cancer()"
   ]
  },
  {
   "cell_type": "code",
   "execution_count": null,
   "metadata": {},
   "outputs": [],
   "source": [
    "cancer.data.shape"
   ]
  },
  {
   "cell_type": "code",
   "execution_count": null,
   "metadata": {},
   "outputs": [],
   "source": [
    "cancer.target"
   ]
  },
  {
   "cell_type": "markdown",
   "metadata": {},
   "source": [
    "Ok so data looks fairly simple, it's a design matrix with 40 features and 569 samples. We simply input it to the model like normal. So the inputs are continuous, but the target data, i.e the z data are 0's and 1's. So we're esentially creating a linear function that produces a result which is continuous and is then fed into sigmoid, which then classifies, or simply gives probability."
   ]
  },
  {
   "cell_type": "code",
   "execution_count": 88,
   "metadata": {},
   "outputs": [
    {
     "data": {
      "text/plain": [
       "(426,)"
      ]
     },
     "execution_count": 88,
     "metadata": {},
     "output_type": "execute_result"
    }
   ],
   "source": [
    "X_train, X_test, z_train, z_test = train_test_split(cancer.data,cancer.target)\n",
    "z_train.shape"
   ]
  },
  {
   "cell_type": "code",
   "execution_count": 168,
   "metadata": {},
   "outputs": [],
   "source": [
    "X_train, X_test, z_train, z_test = train_test_split(cancer.data,cancer.target)\n",
    "Xscaler = StandardScaler().fit(X_train)\n",
    "#zscaler = StandardScaler().fit(z_train)\n",
    "\n",
    "X_train = Xscaler.transform(X_train)\n",
    "X_test = Xscaler.transform(X_test)\n",
    "#z_train = zscaler.transform(z_train)\n"
   ]
  },
  {
   "cell_type": "code",
   "execution_count": 207,
   "metadata": {},
   "outputs": [
    {
     "name": "stdout",
     "output_type": "stream",
     "text": [
      "426\n",
      "(383, 1)\n"
     ]
    },
    {
     "data": {
      "text/plain": [
       "<src.modelling.nn.NeuralNetwork at 0x1d631fed970>"
      ]
     },
     "execution_count": 207,
     "metadata": {},
     "output_type": "execute_result"
    }
   ],
   "source": [
    "from src.modelling.nn import NeuralNetwork\n",
    "nn = NeuralNetwork(hidden_activation = 'relu',output_activation = 'sigmoid', loss_func = 'cross_entropy',\n",
    "                   momentum = 0.5,w_init='glorot',batch_size = 32,n_epochs = 1000,val_fraction=0.1)\n",
    "nn.fit(X_train,z_train.reshape(-1,1))\n",
    "#nn.predict(cancer.data)"
   ]
  },
  {
   "cell_type": "code",
   "execution_count": 211,
   "metadata": {},
   "outputs": [
    {
     "data": {
      "text/plain": [
       "[<matplotlib.lines.Line2D at 0x1d6322de400>]"
      ]
     },
     "execution_count": 211,
     "metadata": {},
     "output_type": "execute_result"
    },
    {
     "data": {
      "image/png": "[encoded data removed]",
      "text/plain": [
       "<Figure size 432x288 with 1 Axes>"
      ]
     },
     "metadata": {
      "needs_background": "light"
     },
     "output_type": "display_data"
    }
   ],
   "source": [
    "plt.plot(nn.val_loss)\n",
    "#plt.plot(nn.loss)"
   ]
  },
  {
   "cell_type": "code",
   "execution_count": 188,
   "metadata": {},
   "outputs": [
    {
     "data": {
      "text/plain": [
       "36.89962572574761"
      ]
     },
     "execution_count": 188,
     "metadata": {},
     "output_type": "execute_result"
    }
   ],
   "source": [
    "(nn.layers[0].weights.ravel()@nn.layers[0].weights.ravel())"
   ]
  },
  {
   "cell_type": "markdown",
   "metadata": {},
   "source": [
    "So overflow when just feeding data un standardized directly into my network. What about keras or sklearn?"
   ]
  },
  {
   "cell_type": "code",
   "execution_count": null,
   "metadata": {},
   "outputs": [],
   "source": [
    "from tensorflow.keras import initializers\n",
    "import tensorflow as tf\n",
    "from tensorflow import keras\n",
    "from tensorflow.keras import layers\n",
    "\n",
    "#initializer = tf.keras.initializers.RandomNormal(mean=0., stddev=1.)\n",
    "initializer = tf.keras.initializers.GlorotUniform()\n",
    "init_b = tf.keras.initializers.Constant(value=0.001)\n",
    "\n",
    "\n",
    "model = keras.Sequential()\n",
    "\n",
    "model.add(layers.Dense(100, kernel_initializer=initializer,bias_initializer= init_b, input_shape=(30,)))\n",
    "model.add(layers.Activation('relu'))\n",
    "\n",
    "model.add(layers.Dense(50, kernel_initializer=initializer,bias_initializer= init_b))\n",
    "model.add(layers.Activation('relu'))\n",
    "\n",
    "model.add(layers.Dense(1, kernel_initializer=initializer,bias_initializer= init_b))\n",
    "model.add(layers.Activation('sigmoid'))\n",
    "\n",
    "opt = keras.optimizers.SGD(learning_rate=0.01,momentum=0.5)\n",
    "model.compile(loss='binary_crossentropy', optimizer=opt)"
   ]
  },
  {
   "cell_type": "code",
   "execution_count": null,
   "metadata": {},
   "outputs": [],
   "source": [
    "model.fit(X_train,z_train,batch_size = 32, epochs=1000,verbose=0)"
   ]
  },
  {
   "cell_type": "code",
   "execution_count": null,
   "metadata": {},
   "outputs": [],
   "source": [
    "model.predict(cancer.data)"
   ]
  },
  {
   "cell_type": "code",
   "execution_count": null,
   "metadata": {},
   "outputs": [],
   "source": [
    "model.get_layer(index=2).get_weights()[1]"
   ]
  },
  {
   "cell_type": "code",
   "execution_count": null,
   "metadata": {},
   "outputs": [],
   "source": [
    "model.summary()"
   ]
  },
  {
   "cell_type": "code",
   "execution_count": null,
   "metadata": {},
   "outputs": [],
   "source": [
    "from sklearn.neural_network import MLPClassifier\n",
    "\n",
    "nn_sk = MLPClassifier(max_iter = 1000, hidden_layer_sizes=(100,50),\n",
    "                     activation = 'relu',solver='sgd',\n",
    "                     learning_rate_init=0.01,batch_size = 32,momentum= 0.5,alpha=0.0,tol=0)\n",
    "nn_sk.fit(X_train,z_train)"
   ]
  },
  {
   "cell_type": "code",
   "execution_count": null,
   "metadata": {},
   "outputs": [],
   "source": [
    "#print(nn_sk.predict_proba(X_train))\n",
    "print('\\n')\n",
    "print(nn_sk.coefs_[-1].shape)\n",
    "print(nn_sk.classes_)\n",
    "print(nn_sk.get_params())\n",
    "nn_sk.predict(X_train)"
   ]
  },
  {
   "cell_type": "code",
   "execution_count": null,
   "metadata": {},
   "outputs": [],
   "source": [
    "from tensorflow.keras.utils import to_categorical\n",
    "from sklearn.preprocessing import OneHotEncoder\n",
    "y = to_categorical(cancer.target)\n",
    "y2 = OneHotEncoder().fit_transform(cancer.target.reshape(-1,1))\n",
    "print(y.shape)\n",
    "print(y2.shape)"
   ]
  },
  {
   "cell_type": "code",
   "execution_count": null,
   "metadata": {},
   "outputs": [],
   "source": [
    "cancer.target.shape"
   ]
  },
  {
   "cell_type": "code",
   "execution_count": null,
   "metadata": {},
   "outputs": [],
   "source": [
    "len(cancer.target.shape)"
   ]
  },
  {
   "cell_type": "code",
   "execution_count": null,
   "metadata": {},
   "outputs": [],
   "source": [
    "from sklearn.preprocessing import LabelBinarizer\n",
    "lb = LabelBinarizer()\n",
    "y3 = lb.fit_transform(cancer.target)\n",
    "y3[0]"
   ]
  },
  {
   "cell_type": "markdown",
   "metadata": {},
   "source": [
    "So what might be the case is simply that sklearn and keras implements methods to avoid numerical instabilities so that computation can continue. With  inf values here and there an activation with sigmoid will simply result in 1, or minus inf will result in 0. So perhaps somehow the probability outputted, not being 1 btw, has something to do either with the distribution of the data set, or that it magically somehow converges to 0.62 something. Perhaps something to do with e?\n",
    "\n",
    "So the weights of sklearn and keras are not infinite, they are something. But perhaps those are the weights that reached the limit of maximum number in terms of computational stability?\n",
    "\n",
    "Either way, turned out that standardizing the data helped majorly in avoiding exploding gradient."
   ]
  },
  {
   "cell_type": "code",
   "execution_count": 209,
   "metadata": {},
   "outputs": [
    {
     "name": "stdout",
     "output_type": "stream",
     "text": [
      "426\n",
      "(383, 1)\n"
     ]
    },
    {
     "data": {
      "text/plain": [
       "<src.modelling.logreg.SGD_logreg at 0x1d632108550>"
      ]
     },
     "execution_count": 209,
     "metadata": {},
     "output_type": "execute_result"
    }
   ],
   "source": [
    "from src.modelling.logreg import SGD_logreg\n",
    "\n",
    "logreg = SGD_logreg(n_epochs=10000)\n",
    "logreg.fit(X_train,z_train.reshape(-1,1))"
   ]
  },
  {
   "cell_type": "code",
   "execution_count": 111,
   "metadata": {},
   "outputs": [
    {
     "data": {
      "text/plain": [
       "1.0"
      ]
     },
     "execution_count": 111,
     "metadata": {},
     "output_type": "execute_result"
    }
   ],
   "source": [
    "logreg.score(X_train,z_train.reshape(-1,1))\n"
   ]
  },
  {
   "cell_type": "markdown",
   "metadata": {},
   "source": [
    "Ah so if SGD_logreg inherits from SGD_linreg that inherits from SGD_optimizer, it does indeed get the fit function, however it inherits the fit function SGD_linreg inherited, which uses SGD_linregs predict."
   ]
  },
  {
   "cell_type": "code",
   "execution_count": 210,
   "metadata": {},
   "outputs": [
    {
     "data": {
      "text/plain": [
       "[<matplotlib.lines.Line2D at 0x1d632289250>]"
      ]
     },
     "execution_count": 210,
     "metadata": {},
     "output_type": "execute_result"
    },
    {
     "data": {
      "image/png": "[encoded data removed]",
      "text/plain": [
       "<Figure size 432x288 with 1 Axes>"
      ]
     },
     "metadata": {
      "needs_background": "light"
     },
     "output_type": "display_data"
    }
   ],
   "source": [
    "import matplotlib.pyplot as plt\n",
    "#plt.plot(logreg.scores)\n",
    "plt.plot(logreg.loss)"
   ]
  },
  {
   "cell_type": "markdown",
   "metadata": {},
   "source": [
    "So when pumping up n epochs, we see that the model does improve on test data, however stagnates at 0.96, and doesn't ever decrease. I guess it's hard to overfit now, because we have the features that we have and model complexity can't increase."
   ]
  },
  {
   "cell_type": "code",
   "execution_count": 114,
   "metadata": {},
   "outputs": [
    {
     "data": {
      "text/plain": [
       "0.965034965034965"
      ]
     },
     "execution_count": 114,
     "metadata": {},
     "output_type": "execute_result"
    }
   ],
   "source": [
    "logreg.score(X_test,z_test.reshape(-1,1))"
   ]
  },
  {
   "cell_type": "code",
   "execution_count": 65,
   "metadata": {},
   "outputs": [
    {
     "data": {
      "text/plain": [
       "array([[ 0.05235891],\n",
       "       [-0.01117482],\n",
       "       [-0.04907666],\n",
       "       [ 0.05323615],\n",
       "       [-0.02788537],\n",
       "       [ 0.13091652],\n",
       "       [-0.09944011],\n",
       "       [-0.00267761],\n",
       "       [ 0.01176267],\n",
       "       [-0.01108023],\n",
       "       [-0.02716792],\n",
       "       [ 0.00913157],\n",
       "       [ 0.11177889],\n",
       "       [-0.19197075],\n",
       "       [ 0.02090135],\n",
       "       [-0.02746825],\n",
       "       [ 0.06040906],\n",
       "       [-0.09146193],\n",
       "       [ 0.01738799],\n",
       "       [ 0.04251909],\n",
       "       [-0.10929564],\n",
       "       [-0.01323301],\n",
       "       [-0.04853388],\n",
       "       [ 0.0517787 ],\n",
       "       [-0.00571401],\n",
       "       [-0.03386452],\n",
       "       [-0.00030942],\n",
       "       [ 0.03188995],\n",
       "       [-0.02846331],\n",
       "       [-0.0320937 ]])"
      ]
     },
     "execution_count": 65,
     "metadata": {},
     "output_type": "execute_result"
    }
   ],
   "source": [
    "logreg.beta"
   ]
  },
  {
   "cell_type": "code",
   "execution_count": 212,
   "metadata": {},
   "outputs": [
    {
     "name": "stdout",
     "output_type": "stream",
     "text": [
      "(143, 30)\n",
      "(426, 30)\n",
      "(143,)\n",
      "(426,)\n"
     ]
    },
    {
     "name": "stderr",
     "output_type": "stream",
     "text": [
      "c:\\users\\oliver\\appdata\\local\\programs\\python\\python39\\lib\\site-packages\\sklearn\\linear_model\\_logistic.py:763: ConvergenceWarning: lbfgs failed to converge (status=1):\n",
      "STOP: TOTAL NO. of ITERATIONS REACHED LIMIT.\n",
      "\n",
      "Increase the number of iterations (max_iter) or scale the data as shown in:\n",
      "    https://scikit-learn.org/stable/modules/preprocessing.html\n",
      "Please also refer to the documentation for alternative solver options:\n",
      "    https://scikit-learn.org/stable/modules/linear_model.html#logistic-regression\n",
      "  n_iter_i = _check_optimize_result(\n"
     ]
    },
    {
     "data": {
      "text/plain": [
       "0.972027972027972"
      ]
     },
     "execution_count": 212,
     "metadata": {},
     "output_type": "execute_result"
    }
   ],
   "source": [
    "from sklearn.linear_model import LogisticRegression\n",
    "#X_train, X_test, z_train, z_test = train_test_split(cancer.data,cancer.target,random_state=0)\n",
    "print(X_test.shape)\n",
    "print(X_train.shape)\n",
    "print(z_test.shape)\n",
    "print(z_train.shape)\n",
    "logreg_sk = LogisticRegression(solver='lbfgs')\n",
    "logreg_sk.fit(X_train,z_train)\n",
    "logreg_sk.score(X_test,z_test)"
   ]
  },
  {
   "cell_type": "code",
   "execution_count": 81,
   "metadata": {},
   "outputs": [
    {
     "data": {
      "text/plain": [
       "0.40350877192982454"
      ]
     },
     "execution_count": 81,
     "metadata": {},
     "output_type": "execute_result"
    }
   ],
   "source": []
  },
  {
   "cell_type": "markdown",
   "metadata": {},
   "source": [
    "Ok nice, so all methods seems to be working. A question is now, where do I go from here? Perhaps a train test result graph during training is useful? Unclear if that is normal. Though should be able to see if I reach a region of overfit at least. Several ways to do that. One can measure loss of a validation and train set during training, hm, or that's gonna be rather slow.\n",
    "\n",
    "So how to do overfit analysis? So one usually start with lr and lambda tuning, and then move on to other parameters. So how to see if num epochs gets too much? I guess I should have early stopping implemente. Because if I first tune lr and lmb without regards for overfitting then if I change n_epochs, the lr does perhaps not give a good answer anymore. Perhaps by implementing early stopping one would get the best 'test score' on every lr and lmb one tries. Although, I theory you would like the cost function to converge to a good solution, meaning plentiful epochs and still no overfit. So perhaps better aim many epochs, and then continuou search"
   ]
  },
  {
   "cell_type": "markdown",
   "metadata": {},
   "source": [
    "If I capture loss during training I can plot the graph and see how many epochs it took to somewhat converge."
   ]
  },
  {
   "cell_type": "code",
   "execution_count": 152,
   "metadata": {},
   "outputs": [
    {
     "data": {
      "text/plain": [
       "array([ 0, -1, -2])"
      ]
     },
     "execution_count": 152,
     "metadata": {},
     "output_type": "execute_result"
    }
   ],
   "source": [
    "import numpy as np\n",
    "a = np.asarray([1,2,3])\n",
    "b = np.asarray([0.5,0.5,0.5])\n",
    "(1-a)"
   ]
  },
  {
   "cell_type": "code",
   "execution_count": null,
   "metadata": {},
   "outputs": [],
   "source": []
  }
 ],
 "metadata": {
  "kernelspec": {
   "display_name": "Python 3",
   "language": "python",
   "name": "python3"
  },
  "language_info": {
   "codemirror_mode": {
    "name": "ipython",
    "version": 3
   },
   "file_extension": ".py",
   "mimetype": "text/x-python",
   "name": "python",
   "nbconvert_exporter": "python",
   "pygments_lexer": "ipython3",
   "version": "3.9.1"
  }
 },
 "nbformat": 4,
 "nbformat_minor": 4
}
