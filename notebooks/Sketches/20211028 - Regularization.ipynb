{
 "cells": [
  {
   "cell_type": "markdown",
   "metadata": {},
   "source": [
    "A very good question is why Ridge requires so much lower regularization factor when using SGD than when using matrix inversion.\n",
    "One explanation might be that when you are using matrix inversion you are doing it across all the data in one, and then subtract the regularization. If doing regular sgd you end up subtracting the regularizing term on each and every batch update(which is one data point with regular sgd). When you are done going through the whole data set, you've essentially subtracted the regularizing term n_batches times, whereas you've only done that once if you would have used batch stochastic gradient descent, using the average of the whole data sets gradient. So perhaps one should divide the regularizing term by amount of batches?"
   ]
  },
  {
   "cell_type": "code",
   "execution_count": 1,
   "metadata": {},
   "outputs": [],
   "source": [
    "%load_ext autoreload\n",
    "%autoreload 2\n",
    "import sys\n",
    "sys.path.append('../src/')"
   ]
  },
  {
   "cell_type": "code",
   "execution_count": 68,
   "metadata": {},
   "outputs": [],
   "source": [
    "import numpy as np\n",
    "from modelling import ols,ridge\n",
    "from modelling.sgd import SGD_optimizer\n",
    "from model_evaluation.param_analysis import evaluate_parameter\n",
    "from data.create_dataset import *\n",
    "from visualization.visualize import *\n",
    "from sklearn.model_selection import  train_test_split\n",
    "from sklearn.linear_model import SGDRegressor\n",
    "from sklearn.preprocessing import StandardScaler\n",
    "from sklearn.linear_model import LinearRegression,Ridge"
   ]
  },
  {
   "cell_type": "code",
   "execution_count": 9,
   "metadata": {},
   "outputs": [],
   "source": [
    "X, z = create_dataset('../data/raw/SRTM_data_Norway_1.tif',degree=4)\n",
    "X_train, X_test, z_train, z_test = train_test_split(X,z, test_size=0.2)\n",
    "Xscaler = StandardScaler().fit(X_train)\n",
    "zscaler = StandardScaler().fit(z_train)\n",
    "\n",
    "X_train = Xscaler.transform(X_train)\n",
    "z_train = zscaler.transform(z_train)\n"
   ]
  },
  {
   "cell_type": "code",
   "execution_count": 23,
   "metadata": {},
   "outputs": [
    {
     "data": {
      "text/plain": [
       "array([[ 0.        ],\n",
       "       [ 3.04093673],\n",
       "       [ 1.71139914],\n",
       "       [-6.54620225],\n",
       "       [-7.02806498],\n",
       "       [-3.43016744],\n",
       "       [ 7.22626538],\n",
       "       [ 9.36566755],\n",
       "       [ 2.33435218],\n",
       "       [ 4.6773026 ],\n",
       "       [-3.59703173],\n",
       "       [-1.88177428],\n",
       "       [-3.84071539],\n",
       "       [ 1.92373873],\n",
       "       [-3.07587299]])"
      ]
     },
     "execution_count": 23,
     "metadata": {},
     "output_type": "execute_result"
    }
   ],
   "source": [
    "beta_ols = ols.fit_beta(X_train,z_train,fit_intercept=False)\n",
    "beta_ols"
   ]
  },
  {
   "cell_type": "code",
   "execution_count": 58,
   "metadata": {},
   "outputs": [
    {
     "data": {
      "text/plain": [
       "array([[ 0.        ],\n",
       "       [ 3.03358673],\n",
       "       [ 1.70666781],\n",
       "       [-6.52234693],\n",
       "       [-7.01822223],\n",
       "       [-3.41635829],\n",
       "       [ 7.19838475],\n",
       "       [ 9.35343981],\n",
       "       [ 2.32703329],\n",
       "       [ 4.6609275 ],\n",
       "       [-3.58594329],\n",
       "       [-1.87684412],\n",
       "       [-3.83745181],\n",
       "       [ 1.92574176],\n",
       "       [-3.06904065]])"
      ]
     },
     "execution_count": 58,
     "metadata": {},
     "output_type": "execute_result"
    }
   ],
   "source": [
    "lmb = 0.001\n",
    "beta_rid = ridge.fit_beta(X_train,z_train, lmb,fit_intercept=False)\n",
    "beta_rid"
   ]
  },
  {
   "cell_type": "code",
   "execution_count": 63,
   "metadata": {},
   "outputs": [
    {
     "data": {
      "text/plain": [
       "array([[ 0.        ],\n",
       "       [ 2.85832515],\n",
       "       [ 1.57707906],\n",
       "       [-6.00199197],\n",
       "       [-6.84317518],\n",
       "       [-3.10879803],\n",
       "       [ 6.54545255],\n",
       "       [ 9.06723041],\n",
       "       [ 2.17566171],\n",
       "       [ 4.28561985],\n",
       "       [-3.33597244],\n",
       "       [-1.79897844],\n",
       "       [-3.77179958],\n",
       "       [ 1.9488044 ],\n",
       "       [-2.8949555 ]])"
      ]
     },
     "execution_count": 63,
     "metadata": {},
     "output_type": "execute_result"
    }
   ],
   "source": [
    "epochs = 20000\n",
    "#batch = X_train.shape[0]\n",
    "batch = 32\n",
    "\n",
    "sgd_rid2 = SGD_optimizer(fit_intercept = False, batch_size = batch, \n",
    "                        n_epochs = epochs,use_momentum= True,\n",
    "                        regularization = 'l2',lmb=0.0001,schedule = 'constant', lr0=0.1)\n",
    "sgd_rid2.fit(X_train,z_train)\n",
    "sgd_rid2.beta"
   ]
  },
  {
   "cell_type": "code",
   "execution_count": 65,
   "metadata": {},
   "outputs": [
    {
     "data": {
      "text/plain": [
       "array([[ 0.        ],\n",
       "       [ 1.15620053],\n",
       "       [ 0.52234237],\n",
       "       [-1.07951399],\n",
       "       [-3.85531165],\n",
       "       [-0.50460038],\n",
       "       [ 1.5314463 ],\n",
       "       [ 5.22852995],\n",
       "       [ 0.31744146],\n",
       "       [ 1.20164497],\n",
       "       [-1.55601893],\n",
       "       [-0.33426202],\n",
       "       [-2.54453955],\n",
       "       [ 2.21717679],\n",
       "       [-1.58873545]])"
      ]
     },
     "execution_count": 65,
     "metadata": {},
     "output_type": "execute_result"
    }
   ],
   "source": [
    "epochs = 20000\n",
    "#batch = X_train.shape[0]\n",
    "batch = 32\n",
    "\n",
    "sgd_rid2 = SGD_optimizer(fit_intercept = False, batch_size = batch, \n",
    "                        n_epochs = epochs,use_momentum= True,\n",
    "                        regularization = 'l2',lmb=0.0001,schedule = 'constant', lr0=0.1)\n",
    "sgd_rid2.fit(X_train,z_train)\n",
    "sgd_rid2.beta"
   ]
  },
  {
   "cell_type": "code",
   "execution_count": 70,
   "metadata": {},
   "outputs": [
    {
     "data": {
      "text/plain": [
       "array([[ 0.        ],\n",
       "       [ 2.92053121],\n",
       "       [ 1.63370313],\n",
       "       [-6.25706545],\n",
       "       [-6.89461402],\n",
       "       [-3.23010034],\n",
       "       [ 6.918491  ],\n",
       "       [ 9.22419856],\n",
       "       [ 2.2494836 ],\n",
       "       [ 4.50321688],\n",
       "       [-3.47217256],\n",
       "       [-1.76788945],\n",
       "       [-3.8070113 ],\n",
       "       [ 1.95740532],\n",
       "       [-2.9836715 ]])"
      ]
     },
     "execution_count": 70,
     "metadata": {},
     "output_type": "execute_result"
    }
   ],
   "source": [
    "epochs = 20000\n",
    "#batch = X_train.shape[0]\n",
    "batch = 64\n",
    "\n",
    "sgd_rid2 = SGD_optimizer(fit_intercept = False, batch_size = batch, \n",
    "                        n_epochs = epochs,use_momentum= True,\n",
    "                        regularization = 'l2',lmb=0.001,schedule = 'constant', lr0=0.13)\n",
    "sgd_rid2.fit(X_train,z_train)\n",
    "sgd_rid2.beta"
   ]
  },
  {
   "cell_type": "code",
   "execution_count": 71,
   "metadata": {},
   "outputs": [
    {
     "name": "stdout",
     "output_type": "stream",
     "text": [
      "[ 0.24269728  0.10307935  0.74812672 -1.32547564  0.12803054  0.30178118\n",
      "  1.4714907  -0.29739704  0.1371599  -1.15357854  0.51335772 -0.73360958\n",
      "  1.1908755  -0.67113991]\n",
      "[0.]\n"
     ]
    }
   ],
   "source": [
    "from sklearn.linear_model import SGDRegressor\n",
    "sgdreg = SGDRegressor( random_state=10, fit_intercept = False, max_iter = 100000, penalty='l2',alpha=0.001, eta0 = 1,tol=None)\n",
    "sgdreg = sgdreg.fit(X_train[:,1:],z_train.ravel())\n",
    "print(sgdreg.coef_.T)\n",
    "print(sgdreg.intercept_.T)"
   ]
  },
  {
   "cell_type": "code",
   "execution_count": 73,
   "metadata": {},
   "outputs": [
    {
     "data": {
      "text/plain": [
       "array([[ 0.        ],\n",
       "       [ 2.35451709],\n",
       "       [ 1.2772085 ],\n",
       "       [-4.40563112],\n",
       "       [-6.05057245],\n",
       "       [-2.21319381],\n",
       "       [ 4.78984292],\n",
       "       [ 8.14706156],\n",
       "       [ 1.6339035 ],\n",
       "       [ 3.24611884],\n",
       "       [-2.66370341],\n",
       "       [-1.39736773],\n",
       "       [-3.50634364],\n",
       "       [ 2.10726707],\n",
       "       [-2.47401644]])"
      ]
     },
     "execution_count": 73,
     "metadata": {},
     "output_type": "execute_result"
    }
   ],
   "source": [
    "epochs = 20000\n",
    "#batch = X_train.shape[0]\n",
    "batch = 64\n",
    "\n",
    "sgd_rid2 = SGD_optimizer(fit_intercept = False, batch_size = batch, \n",
    "                        n_epochs = epochs,use_momentum= True,\n",
    "                        regularization = 'l2',lmb=0.001,schedule = 'invscaling', lr0=0.2)\n",
    "sgd_rid2.fit(X_train,z_train)\n",
    "sgd_rid2.beta"
   ]
  },
  {
   "cell_type": "code",
   "execution_count": 74,
   "metadata": {},
   "outputs": [
    {
     "data": {
      "text/plain": [
       "array([[ 0.        ],\n",
       "       [ 2.37051145],\n",
       "       [ 1.2755062 ],\n",
       "       [-4.39729127],\n",
       "       [-6.02393938],\n",
       "       [-2.1984276 ],\n",
       "       [ 4.7951057 ],\n",
       "       [ 8.16525274],\n",
       "       [ 1.60700479],\n",
       "       [ 3.26724819],\n",
       "       [-2.67555531],\n",
       "       [-1.37498721],\n",
       "       [-3.51123549],\n",
       "       [ 2.12632762],\n",
       "       [-2.50153532]])"
      ]
     },
     "execution_count": 74,
     "metadata": {},
     "output_type": "execute_result"
    }
   ],
   "source": [
    "epochs = 20000\n",
    "#batch = X_train.shape[0]\n",
    "batch = 64\n",
    "\n",
    "sgd_rid2 = SGD_optimizer(fit_intercept = False, batch_size = batch, \n",
    "                        n_epochs = epochs,use_momentum= True,\n",
    "                        regularization = 'l2',lmb=0.001,schedule = 'constant', lr0=0.13)\n",
    "sgd_rid2.fit(X_train,z_train)\n",
    "sgd_rid2.beta"
   ]
  },
  {
   "cell_type": "code",
   "execution_count": 75,
   "metadata": {},
   "outputs": [],
   "source": [
    "def func(a):\n",
    "    a= a+1"
   ]
  },
  {
   "cell_type": "code",
   "execution_count": 76,
   "metadata": {},
   "outputs": [
    {
     "data": {
      "text/plain": [
       "1"
      ]
     },
     "execution_count": 76,
     "metadata": {},
     "output_type": "execute_result"
    }
   ],
   "source": [
    "c = 1\n",
    "func(c)\n",
    "c"
   ]
  },
  {
   "cell_type": "code",
   "execution_count": 78,
   "metadata": {},
   "outputs": [
    {
     "data": {
      "text/plain": [
       "tuple"
      ]
     },
     "execution_count": 78,
     "metadata": {},
     "output_type": "execute_result"
    }
   ],
   "source": [
    "type((1,2,3))"
   ]
  },
  {
   "cell_type": "code",
   "execution_count": 80,
   "metadata": {},
   "outputs": [
    {
     "data": {
      "text/plain": [
       "1"
      ]
     },
     "execution_count": 80,
     "metadata": {},
     "output_type": "execute_result"
    }
   ],
   "source": [
    "len((1,))"
   ]
  },
  {
   "cell_type": "code",
   "execution_count": 5,
   "metadata": {},
   "outputs": [
    {
     "name": "stdout",
     "output_type": "stream",
     "text": [
      "3\n",
      "2\n",
      "1\n"
     ]
    }
   ],
   "source": [
    "a = [1,2,3,4]\n",
    "\n",
    "for num in reversed(a[:-1]):\n",
    "    print(num)"
   ]
  },
  {
   "cell_type": "code",
   "execution_count": null,
   "metadata": {},
   "outputs": [],
   "source": []
  }
 ],
 "metadata": {
  "kernelspec": {
   "display_name": "Python 3",
   "language": "python",
   "name": "python3"
  },
  "language_info": {
   "codemirror_mode": {
    "name": "ipython",
    "version": 3
   },
   "file_extension": ".py",
   "mimetype": "text/x-python",
   "name": "python",
   "nbconvert_exporter": "python",
   "pygments_lexer": "ipython3",
   "version": "3.9.1"
  }
 },
 "nbformat": 4,
 "nbformat_minor": 4
}
