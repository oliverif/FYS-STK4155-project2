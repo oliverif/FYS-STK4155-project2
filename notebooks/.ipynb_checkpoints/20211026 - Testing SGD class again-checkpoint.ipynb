{
 "cells": [
  {
   "cell_type": "code",
   "execution_count": 1,
   "metadata": {},
   "outputs": [],
   "source": [
    "%load_ext autoreload\n",
    "%autoreload 2\n",
    "import sys\n",
    "sys.path.append('../src/')"
   ]
  },
  {
   "cell_type": "code",
   "execution_count": 56,
   "metadata": {},
   "outputs": [],
   "source": [
    "import numpy as np\n",
    "from modelling import ols,ridge\n",
    "from modelling.sgd import SGD_optimizer\n",
    "from data.create_dataset import *\n",
    "from visualization.visualize import *\n",
    "from sklearn.model_selection import  train_test_split\n",
    "from sklearn.linear_model import SGDRegressor\n",
    "from sklearn.preprocessing import StandardScaler"
   ]
  },
  {
   "cell_type": "code",
   "execution_count": 5,
   "metadata": {},
   "outputs": [],
   "source": [
    "X, z = create_dataset('../data/raw/SRTM_data_Norway_1.tif',degree=2)\n",
    "X_train, X_test, z_train, z_test = train_test_split(X,z, test_size=0.2)\n",
    "Xscaler = StandardScaler().fit(X_train)\n",
    "zscaler = StandardScaler().fit(z_train)\n",
    "\n",
    "#X_train_scl = Xscaler.transform(X_train)\n",
    "#z_train_scl = zscaler.transform(z_train)\n",
    "X_train_scl = X_train - np.mean(X_train,axis=0)\n",
    "z_train_scl = z_train - np.mean(z_train,axis=0)"
   ]
  },
  {
   "cell_type": "code",
   "execution_count": 18,
   "metadata": {},
   "outputs": [
    {
     "data": {
      "text/plain": [
       "array([[1279.52003418],\n",
       "       [ -61.08654707],\n",
       "       [-112.78098481],\n",
       "       [  94.09058323],\n",
       "       [ 313.18299627],\n",
       "       [ -17.43762423]])"
      ]
     },
     "execution_count": 18,
     "metadata": {},
     "output_type": "execute_result"
    }
   ],
   "source": [
    "beta_ols = ols.fit_beta(X_train,z_train)\n",
    "beta_ols"
   ]
  },
  {
   "cell_type": "code",
   "execution_count": 58,
   "metadata": {},
   "outputs": [
    {
     "data": {
      "text/plain": [
       "array([[1276.92166207],\n",
       "       [ -54.58278288],\n",
       "       [-107.42024615],\n",
       "       [  90.98629789],\n",
       "       [ 306.52911419],\n",
       "       [ -19.31949627]])"
      ]
     },
     "execution_count": 58,
     "metadata": {},
     "output_type": "execute_result"
    }
   ],
   "source": [
    "beta_ridge = ridge.fit_beta(X_train,z_train,lmb = 1)\n",
    "beta_ridge"
   ]
  },
  {
   "cell_type": "code",
   "execution_count": 51,
   "metadata": {},
   "outputs": [
    {
     "data": {
      "text/plain": [
       "array([[ -60.14352956],\n",
       "       [-111.84227334],\n",
       "       [  93.4881806 ],\n",
       "       [ 312.58899494],\n",
       "       [ -17.96900364]])"
      ]
     },
     "execution_count": 51,
     "metadata": {},
     "output_type": "execute_result"
    }
   ],
   "source": [
    "sgd = SGD_optimizer(fit_intercept = True, batch_size = 100, n_epochs = 10000,use_momentum= True, gamma = 0.5,regularization = 'l2', lmb = 1, lr=0.001)\n",
    "beta_class = sgd.fit(X_train[:,1:],z_train)\n",
    "beta_class"
   ]
  },
  {
   "cell_type": "code",
   "execution_count": 52,
   "metadata": {},
   "outputs": [
    {
     "data": {
      "text/plain": [
       "1279.1754467701865"
      ]
     },
     "execution_count": 52,
     "metadata": {},
     "output_type": "execute_result"
    }
   ],
   "source": [
    "sgd.intercept"
   ]
  },
  {
   "cell_type": "markdown",
   "metadata": {},
   "source": [
    "Ah yes, it's finally working. Seems to be converging better with momentum too. Meaning I can use fewer epochs for same result."
   ]
  },
  {
   "cell_type": "code",
   "execution_count": null,
   "metadata": {},
   "outputs": [],
   "source": []
  }
 ],
 "metadata": {
  "kernelspec": {
   "display_name": "Python 3",
   "language": "python",
   "name": "python3"
  },
  "language_info": {
   "codemirror_mode": {
    "name": "ipython",
    "version": 3
   },
   "file_extension": ".py",
   "mimetype": "text/x-python",
   "name": "python",
   "nbconvert_exporter": "python",
   "pygments_lexer": "ipython3",
   "version": "3.9.1"
  }
 },
 "nbformat": 4,
 "nbformat_minor": 4
}
