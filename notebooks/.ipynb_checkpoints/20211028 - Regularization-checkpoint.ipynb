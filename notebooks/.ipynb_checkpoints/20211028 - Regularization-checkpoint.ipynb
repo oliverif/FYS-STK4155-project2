{
 "cells": [
  {
   "cell_type": "markdown",
   "metadata": {},
   "source": [
    "A very good question is why Ridge requires so much lower regularization factor when using SGD than when using matrix inversion.\n",
    "One explanation might be that when you are using matrix inversion you are doing it across all the data in one, and then subtract the regularization. If doing regular sgd you end up subtracting the regularizing term on each and every batch update(which is one data point with regular sgd). When you are done going through the whole data set, you've essentially subtracted the regularizing term n_batches times, whereas you've only done that once if you would have used batch stochastic gradient descent, using the average of the whole data sets gradient. So perhaps one should divide the regularizing term by amount of batches?"
   ]
  },
  {
   "cell_type": "code",
   "execution_count": 1,
   "metadata": {},
   "outputs": [],
   "source": [
    "%load_ext autoreload\n",
    "%autoreload 2\n",
    "import sys\n",
    "sys.path.append('../src/')"
   ]
  },
  {
   "cell_type": "code",
   "execution_count": 3,
   "metadata": {},
   "outputs": [],
   "source": [
    "import numpy as np\n",
    "from modelling import ols,ridge\n",
    "from modelling.sgd import SGD_optimizer\n",
    "from model_evaluation.param_analysis import evaluate_parameter\n",
    "from data.create_dataset import *\n",
    "from visualization.visualize import *\n",
    "from sklearn.model_selection import  train_test_split\n",
    "from sklearn.linear_model import SGDRegressor\n",
    "from sklearn.preprocessing import StandardScaler\n",
    "from sklearn.linear_model import LinearRegression,Ridge"
   ]
  },
  {
   "cell_type": "code",
   "execution_count": 9,
   "metadata": {},
   "outputs": [],
   "source": [
    "X, z = create_dataset('../data/raw/SRTM_data_Norway_1.tif',degree=4)\n",
    "X_train, X_test, z_train, z_test = train_test_split(X,z, test_size=0.2)\n",
    "Xscaler = StandardScaler().fit(X_train)\n",
    "zscaler = StandardScaler().fit(z_train)\n",
    "\n",
    "X_train = Xscaler.transform(X_train)\n",
    "z_train = zscaler.transform(z_train)\n"
   ]
  },
  {
   "cell_type": "code",
   "execution_count": 23,
   "metadata": {},
   "outputs": [
    {
     "data": {
      "text/plain": [
       "array([[ 0.        ],\n",
       "       [ 3.04093673],\n",
       "       [ 1.71139914],\n",
       "       [-6.54620225],\n",
       "       [-7.02806498],\n",
       "       [-3.43016744],\n",
       "       [ 7.22626538],\n",
       "       [ 9.36566755],\n",
       "       [ 2.33435218],\n",
       "       [ 4.6773026 ],\n",
       "       [-3.59703173],\n",
       "       [-1.88177428],\n",
       "       [-3.84071539],\n",
       "       [ 1.92373873],\n",
       "       [-3.07587299]])"
      ]
     },
     "execution_count": 23,
     "metadata": {},
     "output_type": "execute_result"
    }
   ],
   "source": [
    "beta_ols = ols.fit_beta(X_train,z_train,fit_intercept=False)\n",
    "beta_ols"
   ]
  },
  {
   "cell_type": "code",
   "execution_count": 10,
   "metadata": {},
   "outputs": [
    {
     "data": {
      "text/plain": [
       "array([[ 0.        ],\n",
       "       [ 3.03358673],\n",
       "       [ 1.70666781],\n",
       "       [-6.52234693],\n",
       "       [-7.01822223],\n",
       "       [-3.41635829],\n",
       "       [ 7.19838475],\n",
       "       [ 9.35343981],\n",
       "       [ 2.32703329],\n",
       "       [ 4.6609275 ],\n",
       "       [-3.58594329],\n",
       "       [-1.87684412],\n",
       "       [-3.83745181],\n",
       "       [ 1.92574176],\n",
       "       [-3.06904065]])"
      ]
     },
     "execution_count": 10,
     "metadata": {},
     "output_type": "execute_result"
    }
   ],
   "source": [
    "lmb = 0.001\n",
    "beta_rid = ridge.fit_beta(X_train,z_train, lmb,fit_intercept=False)\n",
    "beta_rid"
   ]
  },
  {
   "cell_type": "code",
   "execution_count": 32,
   "metadata": {},
   "outputs": [
    {
     "data": {
      "text/plain": [
       "array([[ 0.        ],\n",
       "       [ 1.56021959],\n",
       "       [ 0.71927946],\n",
       "       [-1.87602423],\n",
       "       [-4.86322798],\n",
       "       [-0.67016306],\n",
       "       [ 1.86302921],\n",
       "       [ 6.80863128],\n",
       "       [ 0.58179999],\n",
       "       [ 1.57707658],\n",
       "       [-1.49497341],\n",
       "       [-0.85835451],\n",
       "       [-3.14695184],\n",
       "       [ 2.46870944],\n",
       "       [-1.8469001 ]])"
      ]
     },
     "execution_count": 32,
     "metadata": {},
     "output_type": "execute_result"
    }
   ],
   "source": [
    "epochs = 10000\n",
    "#batch = X_train.shape[0]\n",
    "batch = 128\n",
    "\n",
    "sgd_rid2 = SGD_optimizer(fit_intercept = False, batch_size = batch, \n",
    "                        n_epochs = epochs,use_momentum= False,\n",
    "                        regularization = 'l2',lmb=0.001, lr=0.01)\n",
    "sgd_rid2.fit(X_train,z_train)\n",
    "sgd_rid2.beta"
   ]
  },
  {
   "cell_type": "code",
   "execution_count": 29,
   "metadata": {},
   "outputs": [
    {
     "data": {
      "text/plain": [
       "array([[ 0.        ],\n",
       "       [ 1.01179008],\n",
       "       [ 0.3988765 ],\n",
       "       [-0.61253467],\n",
       "       [-3.70078143],\n",
       "       [-0.04679332],\n",
       "       [ 0.96428443],\n",
       "       [ 5.18713582],\n",
       "       [-0.09118325],\n",
       "       [ 0.98592571],\n",
       "       [-1.34019449],\n",
       "       [-0.18533533],\n",
       "       [-2.73870016],\n",
       "       [ 2.57425356],\n",
       "       [-1.61729874]])"
      ]
     },
     "execution_count": 29,
     "metadata": {},
     "output_type": "execute_result"
    }
   ],
   "source": [
    "epochs = 10000\n",
    "#batch = X_train.shape[0]\n",
    "batch = 128\n",
    "\n",
    "sgd_rid2 = SGD_optimizer(fit_intercept = False, batch_size = batch, \n",
    "                        n_epochs = epochs,use_momentum= False,\n",
    "                        regularization = 'lr',lmb=0.001, lr=0.01)\n",
    "sgd_rid2.fit(X_train,z_train)\n",
    "sgd_rid2.beta"
   ]
  },
  {
   "cell_type": "code",
   "execution_count": null,
   "metadata": {},
   "outputs": [],
   "source": []
  }
 ],
 "metadata": {
  "kernelspec": {
   "display_name": "Python 3",
   "language": "python",
   "name": "python3"
  },
  "language_info": {
   "codemirror_mode": {
    "name": "ipython",
    "version": 3
   },
   "file_extension": ".py",
   "mimetype": "text/x-python",
   "name": "python",
   "nbconvert_exporter": "python",
   "pygments_lexer": "ipython3",
   "version": "3.9.1"
  }
 },
 "nbformat": 4,
 "nbformat_minor": 4
}
