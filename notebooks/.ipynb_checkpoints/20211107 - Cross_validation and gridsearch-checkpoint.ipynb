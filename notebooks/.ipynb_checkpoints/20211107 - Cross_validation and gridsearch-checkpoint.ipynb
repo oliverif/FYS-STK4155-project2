{
 "cells": [
  {
   "cell_type": "code",
   "execution_count": 1,
   "metadata": {},
   "outputs": [],
   "source": [
    "%load_ext autoreload\n",
    "%autoreload 2\n",
    "import sys\n",
    "sys.path.append('../')\n",
    "sys.path.append('../src/')"
   ]
  },
  {
   "cell_type": "code",
   "execution_count": 42,
   "metadata": {},
   "outputs": [],
   "source": [
    "from sklearn.datasets import load_breast_cancer\n",
    "from sklearn.model_selection import  train_test_split\n",
    "from sklearn.preprocessing import StandardScaler\n",
    "from src.model_evaluation.resampling import *\n",
    "cancer = load_breast_cancer()\n",
    "\n",
    "X_train, X_test, z_train, z_test = train_test_split(cancer.data,cancer.target,test_size= 0.3)\n",
    "Xscaler = StandardScaler().fit(X_train)\n",
    "\n",
    "X_train = Xscaler.transform(X_train)\n",
    "X_test = Xscaler.transform(X_test)"
   ]
  },
  {
   "cell_type": "code",
   "execution_count": 4,
   "metadata": {},
   "outputs": [
    {
     "data": {
      "text/plain": [
       "<src.modelling.nn.NeuralNetwork at 0x1dd2d2a2130>"
      ]
     },
     "execution_count": 4,
     "metadata": {},
     "output_type": "execute_result"
    }
   ],
   "source": [
    "from src.modelling.nn import NeuralNetwork\n",
    "nn = NeuralNetwork(hidden_activation = 'relu',output_activation = 'sigmoid', loss_func = 'cross_entropy',\n",
    "                   momentum = 0.5,w_init='glorot',batch_size = 32,n_epochs = 100,val_fraction=0.1)\n",
    "nn.fit(X_train,z_train)"
   ]
  },
  {
   "cell_type": "code",
   "execution_count": 7,
   "metadata": {},
   "outputs": [
    {
     "name": "stdout",
     "output_type": "stream",
     "text": [
      "Train score:  0.9788732394366197\n",
      "Train score:  0.965034965034965\n"
     ]
    }
   ],
   "source": [
    "print(\"Train score: \",nn.score(X_train,z_train))\n",
    "print(\"Train score: \",nn.score(X_test,z_test))"
   ]
  },
  {
   "cell_type": "code",
   "execution_count": 19,
   "metadata": {},
   "outputs": [
    {
     "data": {
      "text/plain": [
       "(569,)"
      ]
     },
     "execution_count": 19,
     "metadata": {},
     "output_type": "execute_result"
    }
   ],
   "source": [
    "cancer.target.shape"
   ]
  },
  {
   "cell_type": "code",
   "execution_count": 31,
   "metadata": {},
   "outputs": [],
   "source": [
    "a = cross_validate(nn,cancer.data,cancer.target,5,Xscaler)"
   ]
  },
  {
   "cell_type": "code",
   "execution_count": 28,
   "metadata": {},
   "outputs": [
    {
     "data": {
      "text/plain": [
       "0.9859408135723925"
      ]
     },
     "execution_count": 28,
     "metadata": {},
     "output_type": "execute_result"
    }
   ],
   "source": [
    "import numpy as np\n",
    "np.mean(a)"
   ]
  },
  {
   "cell_type": "code",
   "execution_count": 32,
   "metadata": {},
   "outputs": [
    {
     "data": {
      "text/plain": [
       "{'train_scores': [0.9824175824175824,\n",
       "  0.9912087912087912,\n",
       "  0.9868131868131869,\n",
       "  0.9846153846153847,\n",
       "  0.9846491228070176],\n",
       " 'test_scores': [0.9736842105263158,\n",
       "  0.9649122807017544,\n",
       "  0.9824561403508771,\n",
       "  0.9649122807017544,\n",
       "  0.9734513274336283]}"
      ]
     },
     "execution_count": 32,
     "metadata": {},
     "output_type": "execute_result"
    }
   ],
   "source": [
    "a"
   ]
  },
  {
   "cell_type": "code",
   "execution_count": 44,
   "metadata": {},
   "outputs": [
    {
     "data": {
      "text/plain": [
       "(0.9850616926932716, 0.9789007918025152)"
      ]
     },
     "execution_count": 44,
     "metadata": {},
     "output_type": "execute_result"
    }
   ],
   "source": [
    "cross_val_score(nn,cancer.data,cancer.target,5,Xscaler)"
   ]
  },
  {
   "cell_type": "code",
   "execution_count": 36,
   "metadata": {},
   "outputs": [],
   "source": [
    "from src.modelling.logreg import SGD_logreg\n",
    "logreg = SGD_logreg()"
   ]
  },
  {
   "cell_type": "code",
   "execution_count": 37,
   "metadata": {},
   "outputs": [
    {
     "data": {
      "text/plain": [
       "(0.9819857335646809, 0.9631268436578171)"
      ]
     },
     "execution_count": 37,
     "metadata": {},
     "output_type": "execute_result"
    }
   ],
   "source": [
    "cross_val_score(logreg,cancer.data,cancer.target,5,Xscaler)"
   ]
  },
  {
   "cell_type": "code",
   "execution_count": 38,
   "metadata": {},
   "outputs": [
    {
     "name": "stderr",
     "output_type": "stream",
     "text": [
      "c:\\users\\oliver\\appdata\\local\\programs\\python\\python39\\lib\\site-packages\\sklearn\\neural_network\\_multilayer_perceptron.py:614: ConvergenceWarning: Stochastic Optimizer: Maximum iterations (100) reached and the optimization hasn't converged yet.\n",
      "  warnings.warn(\n"
     ]
    },
    {
     "data": {
      "text/plain": [
       "MLPClassifier(batch_size=32, hidden_layer_sizes=(50,), learning_rate_init=0.01,\n",
       "              max_iter=100, momentum=0.5, solver='sgd', tol=0)"
      ]
     },
     "execution_count": 38,
     "metadata": {},
     "output_type": "execute_result"
    }
   ],
   "source": [
    "from sklearn.neural_network import MLPClassifier\n",
    "\n",
    "nn_sk = MLPClassifier(max_iter = 100, hidden_layer_sizes=(50,),\n",
    "                     activation = 'relu',solver='sgd',\n",
    "                     learning_rate_init=0.01,batch_size = 32,momentum= 0.5,alpha=0.0001,tol=0)\n",
    "nn_sk.fit(X_train,z_train)"
   ]
  },
  {
   "cell_type": "code",
   "execution_count": 43,
   "metadata": {},
   "outputs": [
    {
     "name": "stderr",
     "output_type": "stream",
     "text": [
      "c:\\users\\oliver\\appdata\\local\\programs\\python\\python39\\lib\\site-packages\\sklearn\\neural_network\\_multilayer_perceptron.py:614: ConvergenceWarning: Stochastic Optimizer: Maximum iterations (100) reached and the optimization hasn't converged yet.\n",
      "  warnings.warn(\n",
      "c:\\users\\oliver\\appdata\\local\\programs\\python\\python39\\lib\\site-packages\\sklearn\\neural_network\\_multilayer_perceptron.py:614: ConvergenceWarning: Stochastic Optimizer: Maximum iterations (100) reached and the optimization hasn't converged yet.\n",
      "  warnings.warn(\n",
      "c:\\users\\oliver\\appdata\\local\\programs\\python\\python39\\lib\\site-packages\\sklearn\\neural_network\\_multilayer_perceptron.py:614: ConvergenceWarning: Stochastic Optimizer: Maximum iterations (100) reached and the optimization hasn't converged yet.\n",
      "  warnings.warn(\n",
      "c:\\users\\oliver\\appdata\\local\\programs\\python\\python39\\lib\\site-packages\\sklearn\\neural_network\\_multilayer_perceptron.py:614: ConvergenceWarning: Stochastic Optimizer: Maximum iterations (100) reached and the optimization hasn't converged yet.\n",
      "  warnings.warn(\n",
      "c:\\users\\oliver\\appdata\\local\\programs\\python\\python39\\lib\\site-packages\\sklearn\\neural_network\\_multilayer_perceptron.py:614: ConvergenceWarning: Stochastic Optimizer: Maximum iterations (100) reached and the optimization hasn't converged yet.\n",
      "  warnings.warn(\n"
     ]
    },
    {
     "data": {
      "text/plain": [
       "(0.9868208983998457, 0.9771774569166277)"
      ]
     },
     "execution_count": 43,
     "metadata": {},
     "output_type": "execute_result"
    }
   ],
   "source": [
    "cross_val_score(nn_sk,cancer.data,cancer.target,5,Xscaler)"
   ]
  },
  {
   "cell_type": "code",
   "execution_count": 62,
   "metadata": {},
   "outputs": [
    {
     "data": {
      "text/plain": [
       "GridSearchCV(estimator=MLPClassifier(batch_size=32, hidden_layer_sizes=(50,),\n",
       "                                     learning_rate_init=0.01, max_iter=100,\n",
       "                                     momentum=0.5, solver='sgd', tol=0),\n",
       "             n_jobs=-1,\n",
       "             param_grid={'alpha': array([1.00000000e-04, 4.64158883e-04, 2.15443469e-03, 1.00000000e-02,\n",
       "       4.64158883e-02, 2.15443469e-01, 1.00000000e+00, 4.64158883e+00,\n",
       "       2.15443469e+01, 1.00000000e+02]),\n",
       "                         'learning_rate_init': array([1.00000000e-04, 4.64158883e-04, 2.15443469e-03, 1.00000000e-02,\n",
       "       4.64158883e-02, 2.15443469e-01, 1.00000000e+00, 4.64158883e+00,\n",
       "       2.15443469e+01, 1.00000000e+02])})"
      ]
     },
     "execution_count": 62,
     "metadata": {},
     "output_type": "execute_result"
    }
   ],
   "source": [
    "from sklearn.model_selection import GridSearchCV\n",
    "from sklearn.pipeline import Pipeline\n",
    "nlambdas = 10\n",
    "lambdas = np.logspace(-4, 2, nlambdas)\n",
    "nlrs = 10\n",
    "lrs = np.logspace(-4, 2, nlrs)\n",
    "\n",
    "gridsearch = GridSearchCV(estimator=nn_sk, param_grid=dict(alpha=lambdas,learning_rate_init=lrs),n_jobs=-1)\n",
    "gridsearch.fit(X_train,z_train)"
   ]
  },
  {
   "cell_type": "markdown",
   "metadata": {},
   "source": [
    "Ok so I guess on wouldn't scale on every kfold in the cross validation, you scale to begin with, only use your training data for parameter tuning(obviously), which means gridsearch, and then test on test data. I.e you do need to scale in advance, because how else. Or I guess you could scale test data with training data, and scale training data during cross validation. What would be the difference? The scores in the cross validation would be kind of biased. It's as if we'd scale the the whole data set, and then split into train and test."
   ]
  },
  {
   "cell_type": "code",
   "execution_count": 78,
   "metadata": {},
   "outputs": [
    {
     "name": "stdout",
     "output_type": "stream",
     "text": [
      "[[0.0001 0.00046415888336127773 0.002154434690031882 0.01\n",
      "  0.046415888336127774 0.21544346900318823 1.0 4.641588833612772\n",
      "  21.54434690031882 100.0]\n",
      " [0.0001 0.00046415888336127773 0.002154434690031882 0.01\n",
      "  0.046415888336127774 0.21544346900318823 1.0 4.641588833612772\n",
      "  21.54434690031882 100.0]\n",
      " [0.0001 0.00046415888336127773 0.002154434690031882 0.01\n",
      "  0.046415888336127774 0.21544346900318823 1.0 4.641588833612772\n",
      "  21.54434690031882 100.0]\n",
      " [0.0001 0.00046415888336127773 0.002154434690031882 0.01\n",
      "  0.046415888336127774 0.21544346900318823 1.0 4.641588833612772\n",
      "  21.54434690031882 100.0]\n",
      " [0.0001 0.00046415888336127773 0.002154434690031882 0.01\n",
      "  0.046415888336127774 0.21544346900318823 1.0 4.641588833612772\n",
      "  21.54434690031882 100.0]\n",
      " [0.0001 0.00046415888336127773 0.002154434690031882 0.01\n",
      "  0.046415888336127774 0.21544346900318823 1.0 4.641588833612772\n",
      "  21.54434690031882 100.0]\n",
      " [0.0001 0.00046415888336127773 0.002154434690031882 0.01\n",
      "  0.046415888336127774 0.21544346900318823 1.0 4.641588833612772\n",
      "  21.54434690031882 100.0]\n",
      " [0.0001 0.00046415888336127773 0.002154434690031882 0.01\n",
      "  0.046415888336127774 0.21544346900318823 1.0 4.641588833612772\n",
      "  21.54434690031882 100.0]\n",
      " [0.0001 0.00046415888336127773 0.002154434690031882 0.01\n",
      "  0.046415888336127774 0.21544346900318823 1.0 4.641588833612772\n",
      "  21.54434690031882 100.0]\n",
      " [0.0001 0.00046415888336127773 0.002154434690031882 0.01\n",
      "  0.046415888336127774 0.21544346900318823 1.0 4.641588833612772\n",
      "  21.54434690031882 100.0]]\n"
     ]
    }
   ],
   "source": [
    "print(gridsearch.cv_results_['param_learning_rate_init'].reshape(10,10))"
   ]
  },
  {
   "cell_type": "code",
   "execution_count": 167,
   "metadata": {},
   "outputs": [
    {
     "data": {
      "text/html": [
       "<div>\n",
       "<style scoped>\n",
       "    .dataframe tbody tr th:only-of-type {\n",
       "        vertical-align: middle;\n",
       "    }\n",
       "\n",
       "    .dataframe tbody tr th {\n",
       "        vertical-align: top;\n",
       "    }\n",
       "\n",
       "    .dataframe thead th {\n",
       "        text-align: right;\n",
       "    }\n",
       "</style>\n",
       "<table border=\"1\" class=\"dataframe\">\n",
       "  <thead>\n",
       "    <tr style=\"text-align: right;\">\n",
       "      <th></th>\n",
       "      <th>mean_fit_time</th>\n",
       "      <th>std_fit_time</th>\n",
       "      <th>mean_score_time</th>\n",
       "      <th>std_score_time</th>\n",
       "      <th>param_alpha</th>\n",
       "      <th>param_learning_rate_init</th>\n",
       "      <th>params</th>\n",
       "      <th>split0_test_score</th>\n",
       "      <th>split1_test_score</th>\n",
       "      <th>split2_test_score</th>\n",
       "      <th>split3_test_score</th>\n",
       "      <th>split4_test_score</th>\n",
       "      <th>mean_test_score</th>\n",
       "      <th>std_test_score</th>\n",
       "      <th>rank_test_score</th>\n",
       "    </tr>\n",
       "  </thead>\n",
       "  <tbody>\n",
       "    <tr>\n",
       "      <th>0</th>\n",
       "      <td>0.3554</td>\n",
       "      <td>0.0050</td>\n",
       "      <td>0.0008</td>\n",
       "      <td>3.9964e-04</td>\n",
       "      <td>0.0001</td>\n",
       "      <td>0.0001</td>\n",
       "      <td>{'alpha': 0.0001, 'learning_rate_init': 0.0001}</td>\n",
       "      <td>0.9250</td>\n",
       "      <td>0.8000</td>\n",
       "      <td>0.6375</td>\n",
       "      <td>0.6962</td>\n",
       "      <td>0.6709</td>\n",
       "      <td>0.7459</td>\n",
       "      <td>0.1047</td>\n",
       "      <td>64</td>\n",
       "    </tr>\n",
       "    <tr>\n",
       "      <th>1</th>\n",
       "      <td>0.3560</td>\n",
       "      <td>0.0097</td>\n",
       "      <td>0.0008</td>\n",
       "      <td>4.0004e-04</td>\n",
       "      <td>0.0001</td>\n",
       "      <td>0.0005</td>\n",
       "      <td>{'alpha': 0.0001, 'learning_rate_init': 0.0004...</td>\n",
       "      <td>0.9375</td>\n",
       "      <td>0.9625</td>\n",
       "      <td>0.9500</td>\n",
       "      <td>0.9367</td>\n",
       "      <td>0.9494</td>\n",
       "      <td>0.9472</td>\n",
       "      <td>0.0095</td>\n",
       "      <td>42</td>\n",
       "    </tr>\n",
       "    <tr>\n",
       "      <th>2</th>\n",
       "      <td>0.3608</td>\n",
       "      <td>0.0104</td>\n",
       "      <td>0.0004</td>\n",
       "      <td>4.8910e-04</td>\n",
       "      <td>0.0001</td>\n",
       "      <td>0.0022</td>\n",
       "      <td>{'alpha': 0.0001, 'learning_rate_init': 0.0021...</td>\n",
       "      <td>0.9875</td>\n",
       "      <td>0.9625</td>\n",
       "      <td>0.9375</td>\n",
       "      <td>0.9620</td>\n",
       "      <td>0.9620</td>\n",
       "      <td>0.9623</td>\n",
       "      <td>0.0158</td>\n",
       "      <td>34</td>\n",
       "    </tr>\n",
       "    <tr>\n",
       "      <th>3</th>\n",
       "      <td>0.3534</td>\n",
       "      <td>0.0076</td>\n",
       "      <td>0.0010</td>\n",
       "      <td>1.0160e-06</td>\n",
       "      <td>0.0001</td>\n",
       "      <td>0.0100</td>\n",
       "      <td>{'alpha': 0.0001, 'learning_rate_init': 0.01}</td>\n",
       "      <td>1.0000</td>\n",
       "      <td>0.9875</td>\n",
       "      <td>0.9625</td>\n",
       "      <td>0.9620</td>\n",
       "      <td>0.9747</td>\n",
       "      <td>0.9773</td>\n",
       "      <td>0.0147</td>\n",
       "      <td>4</td>\n",
       "    </tr>\n",
       "    <tr>\n",
       "      <th>4</th>\n",
       "      <td>0.3506</td>\n",
       "      <td>0.0034</td>\n",
       "      <td>0.0008</td>\n",
       "      <td>3.9971e-04</td>\n",
       "      <td>0.0001</td>\n",
       "      <td>0.0464</td>\n",
       "      <td>{'alpha': 0.0001, 'learning_rate_init': 0.0464...</td>\n",
       "      <td>1.0000</td>\n",
       "      <td>0.9750</td>\n",
       "      <td>0.9625</td>\n",
       "      <td>0.9620</td>\n",
       "      <td>0.9747</td>\n",
       "      <td>0.9748</td>\n",
       "      <td>0.0138</td>\n",
       "      <td>11</td>\n",
       "    </tr>\n",
       "    <tr>\n",
       "      <th>...</th>\n",
       "      <td>...</td>\n",
       "      <td>...</td>\n",
       "      <td>...</td>\n",
       "      <td>...</td>\n",
       "      <td>...</td>\n",
       "      <td>...</td>\n",
       "      <td>...</td>\n",
       "      <td>...</td>\n",
       "      <td>...</td>\n",
       "      <td>...</td>\n",
       "      <td>...</td>\n",
       "      <td>...</td>\n",
       "      <td>...</td>\n",
       "      <td>...</td>\n",
       "      <td>...</td>\n",
       "    </tr>\n",
       "    <tr>\n",
       "      <th>95</th>\n",
       "      <td>0.0872</td>\n",
       "      <td>0.0155</td>\n",
       "      <td>0.0004</td>\n",
       "      <td>4.8963e-04</td>\n",
       "      <td>100.0000</td>\n",
       "      <td>0.2154</td>\n",
       "      <td>{'alpha': 100.0, 'learning_rate_init': 0.21544...</td>\n",
       "      <td>0.6250</td>\n",
       "      <td>0.6250</td>\n",
       "      <td>0.6250</td>\n",
       "      <td>0.6329</td>\n",
       "      <td>0.6203</td>\n",
       "      <td>0.6256</td>\n",
       "      <td>0.0041</td>\n",
       "      <td>67</td>\n",
       "    </tr>\n",
       "    <tr>\n",
       "      <th>96</th>\n",
       "      <td>0.0426</td>\n",
       "      <td>0.0010</td>\n",
       "      <td>0.0004</td>\n",
       "      <td>4.8980e-04</td>\n",
       "      <td>100.0000</td>\n",
       "      <td>1.0000</td>\n",
       "      <td>{'alpha': 100.0, 'learning_rate_init': 1.0}</td>\n",
       "      <td>0.0625</td>\n",
       "      <td>0.0375</td>\n",
       "      <td>0.1125</td>\n",
       "      <td>0.1013</td>\n",
       "      <td>0.0633</td>\n",
       "      <td>0.0754</td>\n",
       "      <td>0.0275</td>\n",
       "      <td>100</td>\n",
       "    </tr>\n",
       "    <tr>\n",
       "      <th>97</th>\n",
       "      <td>0.2016</td>\n",
       "      <td>0.1304</td>\n",
       "      <td>0.0006</td>\n",
       "      <td>1.1999e-03</td>\n",
       "      <td>100.0000</td>\n",
       "      <td>4.6416</td>\n",
       "      <td>{'alpha': 100.0, 'learning_rate_init': 4.64158...</td>\n",
       "      <td>0.3750</td>\n",
       "      <td>0.0500</td>\n",
       "      <td>0.3750</td>\n",
       "      <td>0.1013</td>\n",
       "      <td>0.3797</td>\n",
       "      <td>0.2562</td>\n",
       "      <td>0.1483</td>\n",
       "      <td>97</td>\n",
       "    </tr>\n",
       "    <tr>\n",
       "      <th>98</th>\n",
       "      <td>0.2766</td>\n",
       "      <td>0.0236</td>\n",
       "      <td>0.0002</td>\n",
       "      <td>3.9997e-04</td>\n",
       "      <td>100.0000</td>\n",
       "      <td>21.5443</td>\n",
       "      <td>{'alpha': 100.0, 'learning_rate_init': 21.5443...</td>\n",
       "      <td>0.3750</td>\n",
       "      <td>0.3750</td>\n",
       "      <td>0.3750</td>\n",
       "      <td>0.3671</td>\n",
       "      <td>0.3797</td>\n",
       "      <td>0.3744</td>\n",
       "      <td>0.0041</td>\n",
       "      <td>77</td>\n",
       "    </tr>\n",
       "    <tr>\n",
       "      <th>99</th>\n",
       "      <td>0.2756</td>\n",
       "      <td>0.0201</td>\n",
       "      <td>0.0002</td>\n",
       "      <td>4.0045e-04</td>\n",
       "      <td>100.0000</td>\n",
       "      <td>100.0000</td>\n",
       "      <td>{'alpha': 100.0, 'learning_rate_init': 100.0}</td>\n",
       "      <td>0.3750</td>\n",
       "      <td>0.3750</td>\n",
       "      <td>0.3750</td>\n",
       "      <td>0.3671</td>\n",
       "      <td>0.3797</td>\n",
       "      <td>0.3744</td>\n",
       "      <td>0.0041</td>\n",
       "      <td>77</td>\n",
       "    </tr>\n",
       "  </tbody>\n",
       "</table>\n",
       "<p>100 rows × 15 columns</p>\n",
       "</div>"
      ],
      "text/plain": [
       "    mean_fit_time  std_fit_time  mean_score_time  std_score_time param_alpha  \\\n",
       "0          0.3554        0.0050           0.0008      3.9964e-04      0.0001   \n",
       "1          0.3560        0.0097           0.0008      4.0004e-04      0.0001   \n",
       "2          0.3608        0.0104           0.0004      4.8910e-04      0.0001   \n",
       "3          0.3534        0.0076           0.0010      1.0160e-06      0.0001   \n",
       "4          0.3506        0.0034           0.0008      3.9971e-04      0.0001   \n",
       "..            ...           ...              ...             ...         ...   \n",
       "95         0.0872        0.0155           0.0004      4.8963e-04    100.0000   \n",
       "96         0.0426        0.0010           0.0004      4.8980e-04    100.0000   \n",
       "97         0.2016        0.1304           0.0006      1.1999e-03    100.0000   \n",
       "98         0.2766        0.0236           0.0002      3.9997e-04    100.0000   \n",
       "99         0.2756        0.0201           0.0002      4.0045e-04    100.0000   \n",
       "\n",
       "   param_learning_rate_init  \\\n",
       "0                    0.0001   \n",
       "1                    0.0005   \n",
       "2                    0.0022   \n",
       "3                    0.0100   \n",
       "4                    0.0464   \n",
       "..                      ...   \n",
       "95                   0.2154   \n",
       "96                   1.0000   \n",
       "97                   4.6416   \n",
       "98                  21.5443   \n",
       "99                 100.0000   \n",
       "\n",
       "                                               params  split0_test_score  \\\n",
       "0     {'alpha': 0.0001, 'learning_rate_init': 0.0001}             0.9250   \n",
       "1   {'alpha': 0.0001, 'learning_rate_init': 0.0004...             0.9375   \n",
       "2   {'alpha': 0.0001, 'learning_rate_init': 0.0021...             0.9875   \n",
       "3       {'alpha': 0.0001, 'learning_rate_init': 0.01}             1.0000   \n",
       "4   {'alpha': 0.0001, 'learning_rate_init': 0.0464...             1.0000   \n",
       "..                                                ...                ...   \n",
       "95  {'alpha': 100.0, 'learning_rate_init': 0.21544...             0.6250   \n",
       "96        {'alpha': 100.0, 'learning_rate_init': 1.0}             0.0625   \n",
       "97  {'alpha': 100.0, 'learning_rate_init': 4.64158...             0.3750   \n",
       "98  {'alpha': 100.0, 'learning_rate_init': 21.5443...             0.3750   \n",
       "99      {'alpha': 100.0, 'learning_rate_init': 100.0}             0.3750   \n",
       "\n",
       "    split1_test_score  split2_test_score  split3_test_score  \\\n",
       "0              0.8000             0.6375             0.6962   \n",
       "1              0.9625             0.9500             0.9367   \n",
       "2              0.9625             0.9375             0.9620   \n",
       "3              0.9875             0.9625             0.9620   \n",
       "4              0.9750             0.9625             0.9620   \n",
       "..                ...                ...                ...   \n",
       "95             0.6250             0.6250             0.6329   \n",
       "96             0.0375             0.1125             0.1013   \n",
       "97             0.0500             0.3750             0.1013   \n",
       "98             0.3750             0.3750             0.3671   \n",
       "99             0.3750             0.3750             0.3671   \n",
       "\n",
       "    split4_test_score  mean_test_score  std_test_score  rank_test_score  \n",
       "0              0.6709           0.7459          0.1047               64  \n",
       "1              0.9494           0.9472          0.0095               42  \n",
       "2              0.9620           0.9623          0.0158               34  \n",
       "3              0.9747           0.9773          0.0147                4  \n",
       "4              0.9747           0.9748          0.0138               11  \n",
       "..                ...              ...             ...              ...  \n",
       "95             0.6203           0.6256          0.0041               67  \n",
       "96             0.0633           0.0754          0.0275              100  \n",
       "97             0.3797           0.2562          0.1483               97  \n",
       "98             0.3797           0.3744          0.0041               77  \n",
       "99             0.3797           0.3744          0.0041               77  \n",
       "\n",
       "[100 rows x 15 columns]"
      ]
     },
     "execution_count": 167,
     "metadata": {},
     "output_type": "execute_result"
    }
   ],
   "source": [
    "df_test = pd.DataFrame(gridsearch.cv_results_)\n",
    "df_test"
   ]
  },
  {
   "cell_type": "code",
   "execution_count": 165,
   "metadata": {},
   "outputs": [
    {
     "ename": "KeyError",
     "evalue": "('mean_test_score', 'param_learning_rate_init')",
     "output_type": "error",
     "traceback": [
      "\u001b[1;31m---------------------------------------------------------------------------\u001b[0m",
      "\u001b[1;31mKeyError\u001b[0m                                  Traceback (most recent call last)",
      "\u001b[1;32m<ipython-input-165-7fd597aa05d8>\u001b[0m in \u001b[0;36m<module>\u001b[1;34m\u001b[0m\n\u001b[1;32m----> 1\u001b[1;33m \u001b[0mgridsearch\u001b[0m\u001b[1;33m.\u001b[0m\u001b[0mcv_results_\u001b[0m\u001b[1;33m[\u001b[0m\u001b[1;34m'mean_test_score'\u001b[0m\u001b[1;33m,\u001b[0m\u001b[1;34m'param_learning_rate_init'\u001b[0m\u001b[1;33m]\u001b[0m\u001b[1;33m\u001b[0m\u001b[1;33m\u001b[0m\u001b[0m\n\u001b[0m",
      "\u001b[1;31mKeyError\u001b[0m: ('mean_test_score', 'param_learning_rate_init')"
     ]
    }
   ],
   "source": []
  },
  {
   "cell_type": "code",
   "execution_count": 148,
   "metadata": {},
   "outputs": [
    {
     "data": {
      "text/plain": [
       "array([1.000000e-04, 4.600000e-04, 2.150000e-03, 1.000000e-02,\n",
       "       4.642000e-02, 2.154400e-01, 1.000000e+00, 4.641590e+00,\n",
       "       2.154435e+01, 1.000000e+02, 1.000000e-04, 4.600000e-04,\n",
       "       2.150000e-03, 1.000000e-02, 4.642000e-02, 2.154400e-01,\n",
       "       1.000000e+00, 4.641590e+00, 2.154435e+01, 1.000000e+02,\n",
       "       1.000000e-04, 4.600000e-04, 2.150000e-03, 1.000000e-02,\n",
       "       4.642000e-02, 2.154400e-01, 1.000000e+00, 4.641590e+00,\n",
       "       2.154435e+01, 1.000000e+02, 1.000000e-04, 4.600000e-04,\n",
       "       2.150000e-03, 1.000000e-02, 4.642000e-02, 2.154400e-01,\n",
       "       1.000000e+00, 4.641590e+00, 2.154435e+01, 1.000000e+02,\n",
       "       1.000000e-04, 4.600000e-04, 2.150000e-03, 1.000000e-02,\n",
       "       4.642000e-02, 2.154400e-01, 1.000000e+00, 4.641590e+00,\n",
       "       2.154435e+01, 1.000000e+02, 1.000000e-04, 4.600000e-04,\n",
       "       2.150000e-03, 1.000000e-02, 4.642000e-02, 2.154400e-01,\n",
       "       1.000000e+00, 4.641590e+00, 2.154435e+01, 1.000000e+02,\n",
       "       1.000000e-04, 4.600000e-04, 2.150000e-03, 1.000000e-02,\n",
       "       4.642000e-02, 2.154400e-01, 1.000000e+00, 4.641590e+00,\n",
       "       2.154435e+01, 1.000000e+02, 1.000000e-04, 4.600000e-04,\n",
       "       2.150000e-03, 1.000000e-02, 4.642000e-02, 2.154400e-01,\n",
       "       1.000000e+00, 4.641590e+00, 2.154435e+01, 1.000000e+02,\n",
       "       1.000000e-04, 4.600000e-04, 2.150000e-03, 1.000000e-02,\n",
       "       4.642000e-02, 2.154400e-01, 1.000000e+00, 4.641590e+00,\n",
       "       2.154435e+01, 1.000000e+02, 1.000000e-04, 4.600000e-04,\n",
       "       2.150000e-03, 1.000000e-02, 4.642000e-02, 2.154400e-01,\n",
       "       1.000000e+00, 4.641590e+00, 2.154435e+01, 1.000000e+02])"
      ]
     },
     "execution_count": 148,
     "metadata": {},
     "output_type": "execute_result"
    }
   ],
   "source": [
    "score =np.asarray(gridsearch.cv_results_['mean_test_score'], dtype=np.double)\n",
    "lr = np.asarray(gridsearch.cv_results_['param_learning_rate_init'], dtype=np.double)\n",
    "lmb = np.asarray(gridsearch.cv_results_['param_alpha'], dtype=np.double)\n",
    "(np.asarray(lr).astype(np.double)).round(5)"
   ]
  },
  {
   "cell_type": "code",
   "execution_count": 157,
   "metadata": {},
   "outputs": [],
   "source": [
    "data = {k[6:]: np.asarray(gridsearch.cv_results_[k],dtype=np.double).round(decimals=5) for k in ('param_alpha', 'param_learning_rate_init')}\n",
    "data['accuracy'] = np.asarray(gridsearch.cv_results_['mean_test_score'],dtype=np.double).round(decimals=5)"
   ]
  },
  {
   "cell_type": "code",
   "execution_count": null,
   "metadata": {},
   "outputs": [],
   "source": []
  },
  {
   "cell_type": "code",
   "execution_count": 158,
   "metadata": {},
   "outputs": [
    {
     "data": {
      "text/html": [
       "<div>\n",
       "<style scoped>\n",
       "    .dataframe tbody tr th:only-of-type {\n",
       "        vertical-align: middle;\n",
       "    }\n",
       "\n",
       "    .dataframe tbody tr th {\n",
       "        vertical-align: top;\n",
       "    }\n",
       "\n",
       "    .dataframe thead th {\n",
       "        text-align: right;\n",
       "    }\n",
       "</style>\n",
       "<table border=\"1\" class=\"dataframe\">\n",
       "  <thead>\n",
       "    <tr style=\"text-align: right;\">\n",
       "      <th></th>\n",
       "      <th>alpha</th>\n",
       "      <th>learning_rate_init</th>\n",
       "      <th>accuracy</th>\n",
       "    </tr>\n",
       "  </thead>\n",
       "  <tbody>\n",
       "    <tr>\n",
       "      <th>0</th>\n",
       "      <td>0.0001</td>\n",
       "      <td>0.0001</td>\n",
       "      <td>0.7459</td>\n",
       "    </tr>\n",
       "    <tr>\n",
       "      <th>1</th>\n",
       "      <td>0.0001</td>\n",
       "      <td>0.0005</td>\n",
       "      <td>0.9472</td>\n",
       "    </tr>\n",
       "    <tr>\n",
       "      <th>2</th>\n",
       "      <td>0.0001</td>\n",
       "      <td>0.0022</td>\n",
       "      <td>0.9623</td>\n",
       "    </tr>\n",
       "    <tr>\n",
       "      <th>3</th>\n",
       "      <td>0.0001</td>\n",
       "      <td>0.0100</td>\n",
       "      <td>0.9773</td>\n",
       "    </tr>\n",
       "    <tr>\n",
       "      <th>4</th>\n",
       "      <td>0.0001</td>\n",
       "      <td>0.0464</td>\n",
       "      <td>0.9748</td>\n",
       "    </tr>\n",
       "    <tr>\n",
       "      <th>...</th>\n",
       "      <td>...</td>\n",
       "      <td>...</td>\n",
       "      <td>...</td>\n",
       "    </tr>\n",
       "    <tr>\n",
       "      <th>95</th>\n",
       "      <td>100.0000</td>\n",
       "      <td>0.2154</td>\n",
       "      <td>0.6256</td>\n",
       "    </tr>\n",
       "    <tr>\n",
       "      <th>96</th>\n",
       "      <td>100.0000</td>\n",
       "      <td>1.0000</td>\n",
       "      <td>0.0754</td>\n",
       "    </tr>\n",
       "    <tr>\n",
       "      <th>97</th>\n",
       "      <td>100.0000</td>\n",
       "      <td>4.6416</td>\n",
       "      <td>0.2562</td>\n",
       "    </tr>\n",
       "    <tr>\n",
       "      <th>98</th>\n",
       "      <td>100.0000</td>\n",
       "      <td>21.5444</td>\n",
       "      <td>0.3744</td>\n",
       "    </tr>\n",
       "    <tr>\n",
       "      <th>99</th>\n",
       "      <td>100.0000</td>\n",
       "      <td>100.0000</td>\n",
       "      <td>0.3744</td>\n",
       "    </tr>\n",
       "  </tbody>\n",
       "</table>\n",
       "<p>100 rows × 3 columns</p>\n",
       "</div>"
      ],
      "text/plain": [
       "       alpha  learning_rate_init  accuracy\n",
       "0     0.0001              0.0001    0.7459\n",
       "1     0.0001              0.0005    0.9472\n",
       "2     0.0001              0.0022    0.9623\n",
       "3     0.0001              0.0100    0.9773\n",
       "4     0.0001              0.0464    0.9748\n",
       "..       ...                 ...       ...\n",
       "95  100.0000              0.2154    0.6256\n",
       "96  100.0000              1.0000    0.0754\n",
       "97  100.0000              4.6416    0.2562\n",
       "98  100.0000             21.5444    0.3744\n",
       "99  100.0000            100.0000    0.3744\n",
       "\n",
       "[100 rows x 3 columns]"
      ]
     },
     "execution_count": 158,
     "metadata": {},
     "output_type": "execute_result"
    }
   ],
   "source": [
    "import pandas as pd\n",
    "#pd.set_option('precision', 4)\n",
    "df = pd.DataFrame(data)\n",
    "#df = df.round(decimals=6)\n",
    "df"
   ]
  },
  {
   "cell_type": "code",
   "execution_count": 160,
   "metadata": {},
   "outputs": [
    {
     "data": {
      "image/png": "[encoded data removed]",
      "text/plain": [
       "<Figure size 720x720 with 2 Axes>"
      ]
     },
     "metadata": {
      "needs_background": "light"
     },
     "output_type": "display_data"
    }
   ],
   "source": [
    "import seaborn as sns\n",
    "import matplotlib.pyplot as plt\n",
    "df_p = df.pivot(\"alpha\",\"learning_rate_init\",\"accuracy\")\n",
    "fig, ax = plt.subplots(figsize = (10, 10))\n",
    "ax = sns.heatmap(df_p, annot=True, ax=ax, cmap=\"viridis\")\n",
    "ax.set_title(\"Training Accuracy\")\n",
    "\n",
    "#ax.set_ylabel(\"$\\eta$\")\n",
    "#ax.set_xlabel(\"$\\lambda$\")\n",
    "plt.show()"
   ]
  },
  {
   "cell_type": "code",
   "execution_count": 74,
   "metadata": {},
   "outputs": [
    {
     "data": {
      "image/png": "[encoded data removed]",
      "text/plain": [
       "<Figure size 720x720 with 2 Axes>"
      ]
     },
     "metadata": {
      "needs_background": "light"
     },
     "output_type": "display_data"
    }
   ],
   "source": [
    "import seaborn as sns\n",
    "import matplotlib.pyplot as plt\n",
    "fig, ax = plt.subplots(figsize = (10, 10))\n",
    "sns.heatmap(gridsearch.cv_results_['mean_test_score'].reshape(10,10), annot=True, ax=ax, cmap=\"viridis\")\n",
    "ax.set_title(\"Training Accuracy\")\n",
    "ax.set_ylabel(\"$\\eta$\")\n",
    "ax.set_xlabel(\"$\\lambda$\")\n",
    "plt.show()"
   ]
  },
  {
   "cell_type": "code",
   "execution_count": 84,
   "metadata": {},
   "outputs": [
    {
     "name": "stderr",
     "output_type": "stream",
     "text": [
      "c:\\users\\oliver\\appdata\\local\\programs\\python\\python39\\lib\\site-packages\\sklearn\\utils\\extmath.py:152: RuntimeWarning: overflow encountered in matmul\n",
      "  ret = a @ b\n",
      "c:\\users\\oliver\\appdata\\local\\programs\\python\\python39\\lib\\site-packages\\sklearn\\utils\\extmath.py:152: RuntimeWarning: invalid value encountered in matmul\n",
      "  ret = a @ b\n",
      "c:\\users\\oliver\\appdata\\local\\programs\\python\\python39\\lib\\site-packages\\sklearn\\neural_network\\_multilayer_perceptron.py:614: ConvergenceWarning: Stochastic Optimizer: Maximum iterations (100) reached and the optimization hasn't converged yet.\n",
      "  warnings.warn(\n"
     ]
    },
    {
     "data": {
      "text/plain": [
       "0.3743718592964824"
      ]
     },
     "execution_count": 84,
     "metadata": {},
     "output_type": "execute_result"
    }
   ],
   "source": [
    "nn_sk2 = MLPClassifier(max_iter = 100, hidden_layer_sizes=(50,),\n",
    "                     activation = 'relu',solver='sgd',\n",
    "                     learning_rate_init=100,batch_size = 32,momentum= 0.5,alpha=0.0001,tol=0)\n",
    "nn_sk2.fit(X_train,z_train)\n",
    "nn_sk2.score(X_train,z_train)"
   ]
  },
  {
   "cell_type": "markdown",
   "metadata": {},
   "source": [
    "Ok I have it now, so lambda and lr are on wrong places. It's like with terrain data, the x is the one that alters values across its rows, meaning every column has same values. y is opposite. If you simply reshape these and print you see that too."
   ]
  },
  {
   "cell_type": "code",
   "execution_count": 85,
   "metadata": {},
   "outputs": [
    {
     "name": "stdout",
     "output_type": "stream",
     "text": [
      "[[0.0001 0.0001 0.0001 0.0001 0.0001 0.0001 0.0001 0.0001 0.0001 0.0001]\n",
      " [0.00046415888336127773 0.00046415888336127773 0.00046415888336127773\n",
      "  0.00046415888336127773 0.00046415888336127773 0.00046415888336127773\n",
      "  0.00046415888336127773 0.00046415888336127773 0.00046415888336127773\n",
      "  0.00046415888336127773]\n",
      " [0.002154434690031882 0.002154434690031882 0.002154434690031882\n",
      "  0.002154434690031882 0.002154434690031882 0.002154434690031882\n",
      "  0.002154434690031882 0.002154434690031882 0.002154434690031882\n",
      "  0.002154434690031882]\n",
      " [0.01 0.01 0.01 0.01 0.01 0.01 0.01 0.01 0.01 0.01]\n",
      " [0.046415888336127774 0.046415888336127774 0.046415888336127774\n",
      "  0.046415888336127774 0.046415888336127774 0.046415888336127774\n",
      "  0.046415888336127774 0.046415888336127774 0.046415888336127774\n",
      "  0.046415888336127774]\n",
      " [0.21544346900318823 0.21544346900318823 0.21544346900318823\n",
      "  0.21544346900318823 0.21544346900318823 0.21544346900318823\n",
      "  0.21544346900318823 0.21544346900318823 0.21544346900318823\n",
      "  0.21544346900318823]\n",
      " [1.0 1.0 1.0 1.0 1.0 1.0 1.0 1.0 1.0 1.0]\n",
      " [4.641588833612772 4.641588833612772 4.641588833612772 4.641588833612772\n",
      "  4.641588833612772 4.641588833612772 4.641588833612772 4.641588833612772\n",
      "  4.641588833612772 4.641588833612772]\n",
      " [21.54434690031882 21.54434690031882 21.54434690031882 21.54434690031882\n",
      "  21.54434690031882 21.54434690031882 21.54434690031882 21.54434690031882\n",
      "  21.54434690031882 21.54434690031882]\n",
      " [100.0 100.0 100.0 100.0 100.0 100.0 100.0 100.0 100.0 100.0]]\n"
     ]
    }
   ],
   "source": [
    "print(gridsearch.cv_results_['param_alpha'].reshape(10,10))"
   ]
  },
  {
   "cell_type": "markdown",
   "metadata": {},
   "source": [
    "Here every row has same values, meaning it should be on the y-axis."
   ]
  },
  {
   "cell_type": "code",
   "execution_count": 91,
   "metadata": {},
   "outputs": [
    {
     "name": "stdout",
     "output_type": "stream",
     "text": [
      "{'param_alpha': masked_array(data=[0.0001, 0.0001, 0.0001, 0.0001, 0.0001, 0.0001, 0.0001,\n",
      "                   0.0001, 0.0001, 0.0001, 0.00046415888336127773,\n",
      "                   0.00046415888336127773, 0.00046415888336127773,\n",
      "                   0.00046415888336127773, 0.00046415888336127773,\n",
      "                   0.00046415888336127773, 0.00046415888336127773,\n",
      "                   0.00046415888336127773, 0.00046415888336127773,\n",
      "                   0.00046415888336127773, 0.002154434690031882,\n",
      "                   0.002154434690031882, 0.002154434690031882,\n",
      "                   0.002154434690031882, 0.002154434690031882,\n",
      "                   0.002154434690031882, 0.002154434690031882,\n",
      "                   0.002154434690031882, 0.002154434690031882,\n",
      "                   0.002154434690031882, 0.01, 0.01, 0.01, 0.01, 0.01,\n",
      "                   0.01, 0.01, 0.01, 0.01, 0.01, 0.046415888336127774,\n",
      "                   0.046415888336127774, 0.046415888336127774,\n",
      "                   0.046415888336127774, 0.046415888336127774,\n",
      "                   0.046415888336127774, 0.046415888336127774,\n",
      "                   0.046415888336127774, 0.046415888336127774,\n",
      "                   0.046415888336127774, 0.21544346900318823,\n",
      "                   0.21544346900318823, 0.21544346900318823,\n",
      "                   0.21544346900318823, 0.21544346900318823,\n",
      "                   0.21544346900318823, 0.21544346900318823,\n",
      "                   0.21544346900318823, 0.21544346900318823,\n",
      "                   0.21544346900318823, 1.0, 1.0, 1.0, 1.0, 1.0, 1.0, 1.0,\n",
      "                   1.0, 1.0, 1.0, 4.641588833612772, 4.641588833612772,\n",
      "                   4.641588833612772, 4.641588833612772,\n",
      "                   4.641588833612772, 4.641588833612772,\n",
      "                   4.641588833612772, 4.641588833612772,\n",
      "                   4.641588833612772, 4.641588833612772,\n",
      "                   21.54434690031882, 21.54434690031882,\n",
      "                   21.54434690031882, 21.54434690031882,\n",
      "                   21.54434690031882, 21.54434690031882,\n",
      "                   21.54434690031882, 21.54434690031882,\n",
      "                   21.54434690031882, 21.54434690031882, 100.0, 100.0,\n",
      "                   100.0, 100.0, 100.0, 100.0, 100.0, 100.0, 100.0, 100.0],\n",
      "             mask=[False, False, False, False, False, False, False, False,\n",
      "                   False, False, False, False, False, False, False, False,\n",
      "                   False, False, False, False, False, False, False, False,\n",
      "                   False, False, False, False, False, False, False, False,\n",
      "                   False, False, False, False, False, False, False, False,\n",
      "                   False, False, False, False, False, False, False, False,\n",
      "                   False, False, False, False, False, False, False, False,\n",
      "                   False, False, False, False, False, False, False, False,\n",
      "                   False, False, False, False, False, False, False, False,\n",
      "                   False, False, False, False, False, False, False, False,\n",
      "                   False, False, False, False, False, False, False, False,\n",
      "                   False, False, False, False, False, False, False, False,\n",
      "                   False, False, False, False],\n",
      "       fill_value='?',\n",
      "            dtype=object), 'param_learning_rate_init': masked_array(data=[0.0001, 0.00046415888336127773, 0.002154434690031882,\n",
      "                   0.01, 0.046415888336127774, 0.21544346900318823, 1.0,\n",
      "                   4.641588833612772, 21.54434690031882, 100.0, 0.0001,\n",
      "                   0.00046415888336127773, 0.002154434690031882, 0.01,\n",
      "                   0.046415888336127774, 0.21544346900318823, 1.0,\n",
      "                   4.641588833612772, 21.54434690031882, 100.0, 0.0001,\n",
      "                   0.00046415888336127773, 0.002154434690031882, 0.01,\n",
      "                   0.046415888336127774, 0.21544346900318823, 1.0,\n",
      "                   4.641588833612772, 21.54434690031882, 100.0, 0.0001,\n",
      "                   0.00046415888336127773, 0.002154434690031882, 0.01,\n",
      "                   0.046415888336127774, 0.21544346900318823, 1.0,\n",
      "                   4.641588833612772, 21.54434690031882, 100.0, 0.0001,\n",
      "                   0.00046415888336127773, 0.002154434690031882, 0.01,\n",
      "                   0.046415888336127774, 0.21544346900318823, 1.0,\n",
      "                   4.641588833612772, 21.54434690031882, 100.0, 0.0001,\n",
      "                   0.00046415888336127773, 0.002154434690031882, 0.01,\n",
      "                   0.046415888336127774, 0.21544346900318823, 1.0,\n",
      "                   4.641588833612772, 21.54434690031882, 100.0, 0.0001,\n",
      "                   0.00046415888336127773, 0.002154434690031882, 0.01,\n",
      "                   0.046415888336127774, 0.21544346900318823, 1.0,\n",
      "                   4.641588833612772, 21.54434690031882, 100.0, 0.0001,\n",
      "                   0.00046415888336127773, 0.002154434690031882, 0.01,\n",
      "                   0.046415888336127774, 0.21544346900318823, 1.0,\n",
      "                   4.641588833612772, 21.54434690031882, 100.0, 0.0001,\n",
      "                   0.00046415888336127773, 0.002154434690031882, 0.01,\n",
      "                   0.046415888336127774, 0.21544346900318823, 1.0,\n",
      "                   4.641588833612772, 21.54434690031882, 100.0, 0.0001,\n",
      "                   0.00046415888336127773, 0.002154434690031882, 0.01,\n",
      "                   0.046415888336127774, 0.21544346900318823, 1.0,\n",
      "                   4.641588833612772, 21.54434690031882, 100.0],\n",
      "             mask=[False, False, False, False, False, False, False, False,\n",
      "                   False, False, False, False, False, False, False, False,\n",
      "                   False, False, False, False, False, False, False, False,\n",
      "                   False, False, False, False, False, False, False, False,\n",
      "                   False, False, False, False, False, False, False, False,\n",
      "                   False, False, False, False, False, False, False, False,\n",
      "                   False, False, False, False, False, False, False, False,\n",
      "                   False, False, False, False, False, False, False, False,\n",
      "                   False, False, False, False, False, False, False, False,\n",
      "                   False, False, False, False, False, False, False, False,\n",
      "                   False, False, False, False, False, False, False, False,\n",
      "                   False, False, False, False, False, False, False, False,\n",
      "                   False, False, False, False],\n",
      "       fill_value='?',\n",
      "            dtype=object), 'mean_test_score': array([0.74591772, 0.94721519, 0.96231013, 0.97734177, 0.97484177,\n",
      "       0.96231013, 0.96484177, 0.41433544, 0.37436709, 0.37436709,\n",
      "       0.77661392, 0.94968354, 0.96984177, 0.97740506, 0.97734177,\n",
      "       0.96484177, 0.96984177, 0.60275316, 0.37436709, 0.37436709,\n",
      "       0.77674051, 0.93218354, 0.96231013, 0.97490506, 0.97234177,\n",
      "       0.96734177, 0.96734177, 0.74053797, 0.37436709, 0.37436709,\n",
      "       0.83648734, 0.93208861, 0.96481013, 0.97240506, 0.97234177,\n",
      "       0.96734177, 0.96731013, 0.55981013, 0.37436709, 0.37436709,\n",
      "       0.86683544, 0.93724684, 0.96481013, 0.96481013, 0.97490506,\n",
      "       0.97237342, 0.97487342, 0.6821519 , 0.37436709, 0.37436709,\n",
      "       0.78832278, 0.9371519 , 0.95727848, 0.97234177, 0.97487342,\n",
      "       0.97240506, 0.98490506, 0.79382911, 0.37436709, 0.37436709,\n",
      "       0.77911392, 0.9396519 , 0.96227848, 0.97237342, 0.97490506,\n",
      "       0.97740506, 0.96731013, 0.56939873, 0.37436709, 0.34753165,\n",
      "       0.79898734, 0.94221519, 0.95977848, 0.96731013, 0.96481013,\n",
      "       0.96224684, 0.96474684, 0.29857595, 0.1885443 , 0.36253165,\n",
      "       0.81392405, 0.92705696, 0.90443038, 0.89452532, 0.90702532,\n",
      "       0.90452532, 0.62563291, 0.07787975, 0.26436709, 0.37436709,\n",
      "       0.80702532, 0.52496835, 0.62563291, 0.62563291, 0.62563291,\n",
      "       0.62563291, 0.07541139, 0.25620253, 0.37436709, 0.37436709])}\n"
     ]
    }
   ],
   "source": [
    "print({k: gridsearch.cv_results_[k] for k in ('param_alpha', 'param_learning_rate_init', 'mean_test_score')})"
   ]
  },
  {
   "cell_type": "code",
   "execution_count": 168,
   "metadata": {},
   "outputs": [],
   "source": [
    "dic = {'eple':1,'paere':2}"
   ]
  },
  {
   "cell_type": "code",
   "execution_count": 175,
   "metadata": {},
   "outputs": [
    {
     "data": {
      "text/plain": [
       "['eple', 'paere']"
      ]
     },
     "execution_count": 175,
     "metadata": {},
     "output_type": "execute_result"
    }
   ],
   "source": [
    "list(dic.keys())"
   ]
  },
  {
   "cell_type": "code",
   "execution_count": 176,
   "metadata": {},
   "outputs": [],
   "source": [
    "param_str =['param_'+s for s in list(dic.keys())]"
   ]
  },
  {
   "cell_type": "code",
   "execution_count": 177,
   "metadata": {},
   "outputs": [
    {
     "data": {
      "text/plain": [
       "['param_eple', 'param_paere']"
      ]
     },
     "execution_count": 177,
     "metadata": {},
     "output_type": "execute_result"
    }
   ],
   "source": [
    "param_str"
   ]
  },
  {
   "cell_type": "code",
   "execution_count": 209,
   "metadata": {},
   "outputs": [
    {
     "name": "stderr",
     "output_type": "stream",
     "text": [
      "c:\\users\\oliver\\appdata\\local\\programs\\python\\python39\\lib\\site-packages\\sklearn\\neural_network\\_multilayer_perceptron.py:614: ConvergenceWarning: Stochastic Optimizer: Maximum iterations (100) reached and the optimization hasn't converged yet.\n",
      "  warnings.warn(\n"
     ]
    }
   ],
   "source": [
    "from src.model_evaluation.param_analysis import *\n",
    "nlambdas = 10\n",
    "lambdas = np.logspace(-4, 2, nlambdas,dtype=np.double).round(5)\n",
    "nlrs = 10\n",
    "lrs = np.logspace(-4, 2, nlrs,dtype=np.double).round(5)\n",
    "\n",
    "best_model, data = grid_search_df(X_train,z_train,nn_sk, param_grid=dict(alpha=lambdas,learning_rate_init=lrs))"
   ]
  },
  {
   "cell_type": "code",
   "execution_count": 211,
   "metadata": {},
   "outputs": [
    {
     "data": {
      "text/html": [
       "<div>\n",
       "<style scoped>\n",
       "    .dataframe tbody tr th:only-of-type {\n",
       "        vertical-align: middle;\n",
       "    }\n",
       "\n",
       "    .dataframe tbody tr th {\n",
       "        vertical-align: top;\n",
       "    }\n",
       "\n",
       "    .dataframe thead th {\n",
       "        text-align: right;\n",
       "    }\n",
       "</style>\n",
       "<table border=\"1\" class=\"dataframe\">\n",
       "  <thead>\n",
       "    <tr style=\"text-align: right;\">\n",
       "      <th></th>\n",
       "      <th>alpha</th>\n",
       "      <th>learning_rate_init</th>\n",
       "      <th>mean_test_score</th>\n",
       "      <th>rank_test_score</th>\n",
       "    </tr>\n",
       "  </thead>\n",
       "  <tbody>\n",
       "    <tr>\n",
       "      <th>0</th>\n",
       "      <td>0.0001</td>\n",
       "      <td>0.0001</td>\n",
       "      <td>0.7841</td>\n",
       "      <td>59</td>\n",
       "    </tr>\n",
       "    <tr>\n",
       "      <th>1</th>\n",
       "      <td>0.0001</td>\n",
       "      <td>0.0005</td>\n",
       "      <td>0.9322</td>\n",
       "      <td>44</td>\n",
       "    </tr>\n",
       "    <tr>\n",
       "      <th>2</th>\n",
       "      <td>0.0001</td>\n",
       "      <td>0.0022</td>\n",
       "      <td>0.9673</td>\n",
       "      <td>27</td>\n",
       "    </tr>\n",
       "    <tr>\n",
       "      <th>3</th>\n",
       "      <td>0.0001</td>\n",
       "      <td>0.0100</td>\n",
       "      <td>0.9774</td>\n",
       "      <td>1</td>\n",
       "    </tr>\n",
       "    <tr>\n",
       "      <th>4</th>\n",
       "      <td>0.0001</td>\n",
       "      <td>0.0464</td>\n",
       "      <td>0.9698</td>\n",
       "      <td>21</td>\n",
       "    </tr>\n",
       "    <tr>\n",
       "      <th>...</th>\n",
       "      <td>...</td>\n",
       "      <td>...</td>\n",
       "      <td>...</td>\n",
       "      <td>...</td>\n",
       "    </tr>\n",
       "    <tr>\n",
       "      <th>95</th>\n",
       "      <td>100.0000</td>\n",
       "      <td>0.2154</td>\n",
       "      <td>0.6256</td>\n",
       "      <td>69</td>\n",
       "    </tr>\n",
       "    <tr>\n",
       "      <th>96</th>\n",
       "      <td>100.0000</td>\n",
       "      <td>1.0000</td>\n",
       "      <td>0.0679</td>\n",
       "      <td>100</td>\n",
       "    </tr>\n",
       "    <tr>\n",
       "      <th>97</th>\n",
       "      <td>100.0000</td>\n",
       "      <td>4.6416</td>\n",
       "      <td>0.3094</td>\n",
       "      <td>97</td>\n",
       "    </tr>\n",
       "    <tr>\n",
       "      <th>98</th>\n",
       "      <td>100.0000</td>\n",
       "      <td>21.5444</td>\n",
       "      <td>0.3187</td>\n",
       "      <td>96</td>\n",
       "    </tr>\n",
       "    <tr>\n",
       "      <th>99</th>\n",
       "      <td>100.0000</td>\n",
       "      <td>100.0000</td>\n",
       "      <td>0.3744</td>\n",
       "      <td>79</td>\n",
       "    </tr>\n",
       "  </tbody>\n",
       "</table>\n",
       "<p>100 rows × 4 columns</p>\n",
       "</div>"
      ],
      "text/plain": [
       "       alpha learning_rate_init  mean_test_score  rank_test_score\n",
       "0     0.0001             0.0001           0.7841               59\n",
       "1     0.0001             0.0005           0.9322               44\n",
       "2     0.0001             0.0022           0.9673               27\n",
       "3     0.0001             0.0100           0.9774                1\n",
       "4     0.0001             0.0464           0.9698               21\n",
       "..       ...                ...              ...              ...\n",
       "95  100.0000             0.2154           0.6256               69\n",
       "96  100.0000             1.0000           0.0679              100\n",
       "97  100.0000             4.6416           0.3094               97\n",
       "98  100.0000            21.5444           0.3187               96\n",
       "99  100.0000           100.0000           0.3744               79\n",
       "\n",
       "[100 rows x 4 columns]"
      ]
     },
     "execution_count": 211,
     "metadata": {},
     "output_type": "execute_result"
    }
   ],
   "source": [
    "data"
   ]
  },
  {
   "cell_type": "code",
   "execution_count": 212,
   "metadata": {},
   "outputs": [
    {
     "data": {
      "image/png": "[encoded data removed]",
      "text/plain": [
       "<Figure size 720x720 with 2 Axes>"
      ]
     },
     "metadata": {
      "needs_background": "light"
     },
     "output_type": "display_data"
    }
   ],
   "source": [
    "df_p = data.pivot(\"alpha\",\"learning_rate_init\",\"mean_test_score\")\n",
    "fig, ax = plt.subplots(figsize = (10, 10))\n",
    "ax = sns.heatmap(df_p, annot=True, ax=ax, cmap=\"viridis\")\n",
    "ax.set_title(\"Training Accuracy\")\n",
    "\n",
    "#ax.set_ylabel(\"$\\eta$\")\n",
    "#ax.set_xlabel(\"$\\lambda$\")\n",
    "plt.show()"
   ]
  },
  {
   "cell_type": "code",
   "execution_count": 213,
   "metadata": {},
   "outputs": [
    {
     "data": {
      "text/html": [
       "<div>\n",
       "<style scoped>\n",
       "    .dataframe tbody tr th:only-of-type {\n",
       "        vertical-align: middle;\n",
       "    }\n",
       "\n",
       "    .dataframe tbody tr th {\n",
       "        vertical-align: top;\n",
       "    }\n",
       "\n",
       "    .dataframe thead th {\n",
       "        text-align: right;\n",
       "    }\n",
       "</style>\n",
       "<table border=\"1\" class=\"dataframe\">\n",
       "  <thead>\n",
       "    <tr style=\"text-align: right;\">\n",
       "      <th></th>\n",
       "      <th>alpha</th>\n",
       "      <th>learning_rate_init</th>\n",
       "      <th>mean_test_score</th>\n",
       "      <th>rank_test_score</th>\n",
       "    </tr>\n",
       "  </thead>\n",
       "  <tbody>\n",
       "    <tr>\n",
       "      <th>3</th>\n",
       "      <td>0.0001</td>\n",
       "      <td>0.0100</td>\n",
       "      <td>0.9774</td>\n",
       "      <td>1</td>\n",
       "    </tr>\n",
       "    <tr>\n",
       "      <th>23</th>\n",
       "      <td>0.0022</td>\n",
       "      <td>0.0100</td>\n",
       "      <td>0.9774</td>\n",
       "      <td>1</td>\n",
       "    </tr>\n",
       "    <tr>\n",
       "      <th>64</th>\n",
       "      <td>1.0000</td>\n",
       "      <td>0.0464</td>\n",
       "      <td>0.9774</td>\n",
       "      <td>1</td>\n",
       "    </tr>\n",
       "  </tbody>\n",
       "</table>\n",
       "</div>"
      ],
      "text/plain": [
       "     alpha learning_rate_init  mean_test_score  rank_test_score\n",
       "3   0.0001             0.0100           0.9774                1\n",
       "23  0.0022             0.0100           0.9774                1\n",
       "64  1.0000             0.0464           0.9774                1"
      ]
     },
     "execution_count": 213,
     "metadata": {},
     "output_type": "execute_result"
    }
   ],
   "source": [
    "data.loc[data['rank_test_score'] == 1]"
   ]
  },
  {
   "cell_type": "code",
   "execution_count": 216,
   "metadata": {},
   "outputs": [
    {
     "data": {
      "text/plain": [
       "{'cv': None,\n",
       " 'error_score': nan,\n",
       " 'estimator__activation': 'relu',\n",
       " 'estimator__alpha': 0.0001,\n",
       " 'estimator__batch_size': 32,\n",
       " 'estimator__beta_1': 0.9,\n",
       " 'estimator__beta_2': 0.999,\n",
       " 'estimator__early_stopping': False,\n",
       " 'estimator__epsilon': 1e-08,\n",
       " 'estimator__hidden_layer_sizes': (50,),\n",
       " 'estimator__learning_rate': 'constant',\n",
       " 'estimator__learning_rate_init': 0.01,\n",
       " 'estimator__max_fun': 15000,\n",
       " 'estimator__max_iter': 100,\n",
       " 'estimator__momentum': 0.5,\n",
       " 'estimator__n_iter_no_change': 10,\n",
       " 'estimator__nesterovs_momentum': True,\n",
       " 'estimator__power_t': 0.5,\n",
       " 'estimator__random_state': None,\n",
       " 'estimator__shuffle': True,\n",
       " 'estimator__solver': 'sgd',\n",
       " 'estimator__tol': 0,\n",
       " 'estimator__validation_fraction': 0.1,\n",
       " 'estimator__verbose': False,\n",
       " 'estimator__warm_start': False,\n",
       " 'estimator': MLPClassifier(batch_size=32, hidden_layer_sizes=(50,), learning_rate_init=0.01,\n",
       "               max_iter=100, momentum=0.5, solver='sgd', tol=0),\n",
       " 'n_jobs': -1,\n",
       " 'param_grid': {'alpha': array([1.000000e-04, 4.600000e-04, 2.150000e-03, 1.000000e-02,\n",
       "         4.642000e-02, 2.154400e-01, 1.000000e+00, 4.641590e+00,\n",
       "         2.154435e+01, 1.000000e+02]),\n",
       "  'learning_rate_init': array([1.000000e-04, 4.600000e-04, 2.150000e-03, 1.000000e-02,\n",
       "         4.642000e-02, 2.154400e-01, 1.000000e+00, 4.641590e+00,\n",
       "         2.154435e+01, 1.000000e+02])},\n",
       " 'pre_dispatch': '2*n_jobs',\n",
       " 'refit': True,\n",
       " 'return_train_score': False,\n",
       " 'scoring': None,\n",
       " 'verbose': 0}"
      ]
     },
     "execution_count": 216,
     "metadata": {},
     "output_type": "execute_result"
    }
   ],
   "source": [
    "best_model.get_params()"
   ]
  },
  {
   "cell_type": "code",
   "execution_count": 276,
   "metadata": {},
   "outputs": [],
   "source": [
    "from src.modelling.nn import NeuralNetwork\n",
    "nn = NeuralNetwork(hidden_activation = 'relu',output_activation = 'sigmoid', loss_func = 'cross_entropy',\n",
    "                   momentum = 0.5,w_init='glorot',batch_size = 32,n_epochs = 100,val_fraction=0.1)\n",
    "nlambdas = 10\n",
    "lambdas = np.logspace(-4, 0, nlambdas,dtype=np.double).round(5)\n",
    "nlrs = 10\n",
    "lrs = np.logspace(-4, 0, nlrs,dtype=np.double).round(5)"
   ]
  },
  {
   "cell_type": "code",
   "execution_count": 280,
   "metadata": {},
   "outputs": [
    {
     "name": "stdout",
     "output_type": "stream",
     "text": [
      "{'lmb': array([1.0000e-04, 2.8000e-04, 7.7000e-04, 2.1500e-03, 5.9900e-03,\n",
      "       1.6680e-02, 4.6420e-02, 1.2915e-01, 3.5938e-01, 1.0000e+00]), 'lr0': array([1.0000e-04, 2.8000e-04, 7.7000e-04, 2.1500e-03, 5.9900e-03,\n",
      "       1.6680e-02, 4.6420e-02, 1.2915e-01, 3.5938e-01, 1.0000e+00])}\n"
     ]
    }
   ],
   "source": [
    "best_model, data = grid_search_df(X_train,z_train,nn, param_grid=dict(lmb=lambdas,lr0=lrs))"
   ]
  },
  {
   "cell_type": "code",
   "execution_count": 281,
   "metadata": {},
   "outputs": [
    {
     "data": {
      "text/html": [
       "<div>\n",
       "<style scoped>\n",
       "    .dataframe tbody tr th:only-of-type {\n",
       "        vertical-align: middle;\n",
       "    }\n",
       "\n",
       "    .dataframe tbody tr th {\n",
       "        vertical-align: top;\n",
       "    }\n",
       "\n",
       "    .dataframe thead th {\n",
       "        text-align: right;\n",
       "    }\n",
       "</style>\n",
       "<table border=\"1\" class=\"dataframe\">\n",
       "  <thead>\n",
       "    <tr style=\"text-align: right;\">\n",
       "      <th></th>\n",
       "      <th>lmb</th>\n",
       "      <th>lr0</th>\n",
       "      <th>mean_test_score</th>\n",
       "      <th>rank_test_score</th>\n",
       "    </tr>\n",
       "  </thead>\n",
       "  <tbody>\n",
       "    <tr>\n",
       "      <th>0</th>\n",
       "      <td>0.0001</td>\n",
       "      <td>0.0001</td>\n",
       "      <td>0.9598</td>\n",
       "      <td>13</td>\n",
       "    </tr>\n",
       "    <tr>\n",
       "      <th>1</th>\n",
       "      <td>0.0001</td>\n",
       "      <td>0.0003</td>\n",
       "      <td>0.9522</td>\n",
       "      <td>70</td>\n",
       "    </tr>\n",
       "    <tr>\n",
       "      <th>2</th>\n",
       "      <td>0.0001</td>\n",
       "      <td>0.0008</td>\n",
       "      <td>0.9522</td>\n",
       "      <td>70</td>\n",
       "    </tr>\n",
       "    <tr>\n",
       "      <th>3</th>\n",
       "      <td>0.0001</td>\n",
       "      <td>0.0022</td>\n",
       "      <td>0.9572</td>\n",
       "      <td>36</td>\n",
       "    </tr>\n",
       "    <tr>\n",
       "      <th>4</th>\n",
       "      <td>0.0001</td>\n",
       "      <td>0.0060</td>\n",
       "      <td>0.9522</td>\n",
       "      <td>70</td>\n",
       "    </tr>\n",
       "    <tr>\n",
       "      <th>...</th>\n",
       "      <td>...</td>\n",
       "      <td>...</td>\n",
       "      <td>...</td>\n",
       "      <td>...</td>\n",
       "    </tr>\n",
       "    <tr>\n",
       "      <th>95</th>\n",
       "      <td>1.0000</td>\n",
       "      <td>0.0167</td>\n",
       "      <td>0.9522</td>\n",
       "      <td>70</td>\n",
       "    </tr>\n",
       "    <tr>\n",
       "      <th>96</th>\n",
       "      <td>1.0000</td>\n",
       "      <td>0.0464</td>\n",
       "      <td>0.9548</td>\n",
       "      <td>45</td>\n",
       "    </tr>\n",
       "    <tr>\n",
       "      <th>97</th>\n",
       "      <td>1.0000</td>\n",
       "      <td>0.1291</td>\n",
       "      <td>0.9623</td>\n",
       "      <td>5</td>\n",
       "    </tr>\n",
       "    <tr>\n",
       "      <th>98</th>\n",
       "      <td>1.0000</td>\n",
       "      <td>0.3594</td>\n",
       "      <td>0.9522</td>\n",
       "      <td>70</td>\n",
       "    </tr>\n",
       "    <tr>\n",
       "      <th>99</th>\n",
       "      <td>1.0000</td>\n",
       "      <td>1.0000</td>\n",
       "      <td>0.9522</td>\n",
       "      <td>70</td>\n",
       "    </tr>\n",
       "  </tbody>\n",
       "</table>\n",
       "<p>100 rows × 4 columns</p>\n",
       "</div>"
      ],
      "text/plain": [
       "       lmb     lr0  mean_test_score  rank_test_score\n",
       "0   0.0001  0.0001           0.9598               13\n",
       "1   0.0001  0.0003           0.9522               70\n",
       "2   0.0001  0.0008           0.9522               70\n",
       "3   0.0001  0.0022           0.9572               36\n",
       "4   0.0001  0.0060           0.9522               70\n",
       "..     ...     ...              ...              ...\n",
       "95  1.0000  0.0167           0.9522               70\n",
       "96  1.0000  0.0464           0.9548               45\n",
       "97  1.0000  0.1291           0.9623                5\n",
       "98  1.0000  0.3594           0.9522               70\n",
       "99  1.0000  1.0000           0.9522               70\n",
       "\n",
       "[100 rows x 4 columns]"
      ]
     },
     "execution_count": 281,
     "metadata": {},
     "output_type": "execute_result"
    }
   ],
   "source": [
    "data"
   ]
  },
  {
   "cell_type": "code",
   "execution_count": 279,
   "metadata": {},
   "outputs": [
    {
     "data": {
      "image/png": "[encoded data removed]",
      "text/plain": [
       "<Figure size 720x720 with 2 Axes>"
      ]
     },
     "metadata": {
      "needs_background": "light"
     },
     "output_type": "display_data"
    }
   ],
   "source": [
    "df_p = data.pivot(\"lmb\",\"lr0\",\"mean_test_score\")\n",
    "fig, ax = plt.subplots(figsize = (10, 10))\n",
    "ax = sns.heatmap(df_p, annot=True, ax=ax, cmap=\"viridis\")\n",
    "ax.set_title(\"Training Accuracy\")\n",
    "\n",
    "#ax.set_ylabel(\"$\\eta$\")\n",
    "#ax.set_xlabel(\"$\\lambda$\")\n",
    "plt.show()"
   ]
  },
  {
   "cell_type": "code",
   "execution_count": 301,
   "metadata": {},
   "outputs": [
    {
     "name": "stderr",
     "output_type": "stream",
     "text": [
      "..\\src\\modelling\\_functions.py:6: RuntimeWarning: overflow encountered in exp\n",
      "  return(1/(1+np.exp(-z)))\n",
      "..\\src\\modelling\\nn.py:109: RuntimeWarning: overflow encountered in matmul\n",
      "  return loss\n",
      "..\\src\\modelling\\nn.py:164: RuntimeWarning: overflow encountered in matmul\n",
      "  #Store activations in layer object\n",
      "..\\src\\modelling\\nn.py:181: RuntimeWarning: overflow encountered in matmul\n",
      "  #Set activation as input for next iteration\n",
      "..\\src\\modelling\\nn.py:235: RuntimeWarning: invalid value encountered in matmul\n",
      "  b_grad = np.mean(error,axis=0)\n",
      "..\\src\\modelling\\nn.py:164: RuntimeWarning: overflow encountered in add\n",
      "  #Store activations in layer object\n"
     ]
    },
    {
     "data": {
      "text/plain": [
       "<src.modelling.nn.NeuralNetwork at 0x1dd309eb670>"
      ]
     },
     "execution_count": 301,
     "metadata": {},
     "output_type": "execute_result"
    }
   ],
   "source": [
    "from src.modelling.nn import NeuralNetwork\n",
    "nn = NeuralNetwork(hidden_activation = 'relu',output_activation = 'sigmoid', loss_func = 'cross_entropy',\n",
    "                   momentum = 0.5,w_init='glorot',batch_size = 32,n_epochs = 100,val_fraction=0.1,lr0=0.01,lmb=0.01)\n",
    "nn.fit(X_train,z_train)"
   ]
  },
  {
   "cell_type": "code",
   "execution_count": 302,
   "metadata": {},
   "outputs": [
    {
     "data": {
      "text/plain": [
       "0.6256281407035176"
      ]
     },
     "execution_count": 302,
     "metadata": {},
     "output_type": "execute_result"
    }
   ],
   "source": [
    "nn.score(X_train,z_train)"
   ]
  },
  {
   "cell_type": "code",
   "execution_count": 296,
   "metadata": {},
   "outputs": [
    {
     "data": {
      "text/plain": [
       "<src.modelling.nn.NeuralNetwork at 0x1dd310f4910>"
      ]
     },
     "execution_count": 296,
     "metadata": {},
     "output_type": "execute_result"
    }
   ],
   "source": [
    "nn.set_params(lmb=10,lr0=10)"
   ]
  },
  {
   "cell_type": "code",
   "execution_count": 297,
   "metadata": {},
   "outputs": [
    {
     "data": {
      "text/plain": [
       "{'loss_func': 'cross_entropy',\n",
       " 'regularization': 'l2',\n",
       " 'lmb': 10,\n",
       " 'momentum': 0.5,\n",
       " 'schedule': 'constant',\n",
       " 'lr0': 10,\n",
       " 'batch_size': 32,\n",
       " 'n_epochs': 100,\n",
       " 't0': 50,\n",
       " 't1': 300,\n",
       " 'power_t': 0.05,\n",
       " 'hidden_layer_sizes': (50,),\n",
       " 'hidden_activation': 'relu',\n",
       " 'output_activation': 'sigmoid',\n",
       " 'lm': 10}"
      ]
     },
     "execution_count": 297,
     "metadata": {},
     "output_type": "execute_result"
    }
   ],
   "source": [
    "nn.get_params()"
   ]
  },
  {
   "cell_type": "code",
   "execution_count": 298,
   "metadata": {},
   "outputs": [
    {
     "data": {
      "text/plain": [
       "<src.modelling.nn.NeuralNetwork at 0x1dd310f4910>"
      ]
     },
     "execution_count": 298,
     "metadata": {},
     "output_type": "execute_result"
    }
   ],
   "source": [
    "nn.fit(X_train,z_train)"
   ]
  },
  {
   "cell_type": "code",
   "execution_count": 299,
   "metadata": {},
   "outputs": [
    {
     "data": {
      "text/plain": [
       "0.9849246231155779"
      ]
     },
     "execution_count": 299,
     "metadata": {},
     "output_type": "execute_result"
    }
   ],
   "source": [
    "nn.score(X_train,z_train)"
   ]
  },
  {
   "cell_type": "code",
   "execution_count": 288,
   "metadata": {},
   "outputs": [],
   "source": [
    "nn.initialize(X_train.shape)"
   ]
  },
  {
   "cell_type": "code",
   "execution_count": 290,
   "metadata": {},
   "outputs": [
    {
     "data": {
      "text/plain": [
       "<src.modelling.nn.NeuralNetwork at 0x1dd30ce9280>"
      ]
     },
     "execution_count": 290,
     "metadata": {},
     "output_type": "execute_result"
    }
   ],
   "source": [
    "nn.fit(X_train,z_train)"
   ]
  },
  {
   "cell_type": "code",
   "execution_count": 291,
   "metadata": {},
   "outputs": [
    {
     "data": {
      "text/plain": [
       "0.9849246231155779"
      ]
     },
     "execution_count": 291,
     "metadata": {},
     "output_type": "execute_result"
    }
   ],
   "source": [
    "nn.score(X_train,z_train)"
   ]
  },
  {
   "cell_type": "code",
   "execution_count": null,
   "metadata": {},
   "outputs": [],
   "source": []
  }
 ],
 "metadata": {
  "kernelspec": {
   "display_name": "Python 3",
   "language": "python",
   "name": "python3"
  },
  "language_info": {
   "codemirror_mode": {
    "name": "ipython",
    "version": 3
   },
   "file_extension": ".py",
   "mimetype": "text/x-python",
   "name": "python",
   "nbconvert_exporter": "python",
   "pygments_lexer": "ipython3",
   "version": "3.9.1"
  }
 },
 "nbformat": 4,
 "nbformat_minor": 4
}
