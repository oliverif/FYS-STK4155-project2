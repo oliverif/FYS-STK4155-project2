{
 "cells": [
  {
   "cell_type": "code",
   "execution_count": 4,
   "metadata": {},
   "outputs": [],
   "source": [
    "%load_ext autoreload\n",
    "%autoreload 2\n",
    "import sys\n",
    "sys.path.append('../src/')"
   ]
  },
  {
   "cell_type": "code",
   "execution_count": 5,
   "metadata": {},
   "outputs": [],
   "source": [
    "import numpy as np\n",
    "from modelling import ols,ridge\n",
    "from modelling.sgd import SGD_optimizer\n",
    "from model_evaluation.param_analysis import evaluate_parameter\n",
    "from data.create_dataset import *\n",
    "from visualization.visualize import *\n",
    "from sklearn.model_selection import  train_test_split\n",
    "from sklearn.linear_model import SGDRegressor\n",
    "from sklearn.preprocessing import StandardScaler\n",
    "from sklearn.linear_model import LinearRegression,Ridge"
   ]
  },
  {
   "cell_type": "code",
   "execution_count": 6,
   "metadata": {},
   "outputs": [],
   "source": [
    "X, z = create_dataset('../data/raw/SRTM_data_Norway_1.tif',degree=2)\n",
    "X_train, X_test, z_train, z_test = train_test_split(X,z, test_size=0.2)\n",
    "Xscaler = StandardScaler().fit(X_train)\n",
    "zscaler = StandardScaler().fit(z_train)\n",
    "\n",
    "#X_train_scl = Xscaler.transform(X_train)\n",
    "#z_train_scl = zscaler.transform(z_train)\n",
    "X_train_scl = X_train - np.mean(X_train,axis=0)\n",
    "z_train_scl = z_train - np.mean(z_train,axis=0)"
   ]
  },
  {
   "cell_type": "code",
   "execution_count": 18,
   "metadata": {},
   "outputs": [
    {
     "data": {
      "text/plain": [
       "array([[1279.52003418],\n",
       "       [ -61.08654707],\n",
       "       [-112.78098481],\n",
       "       [  94.09058323],\n",
       "       [ 313.18299627],\n",
       "       [ -17.43762423]])"
      ]
     },
     "execution_count": 18,
     "metadata": {},
     "output_type": "execute_result"
    }
   ],
   "source": [
    "beta_ols = ols.fit_beta(X_train,z_train)\n",
    "beta_ols"
   ]
  },
  {
   "cell_type": "code",
   "execution_count": 58,
   "metadata": {},
   "outputs": [
    {
     "data": {
      "text/plain": [
       "array([[1276.92166207],\n",
       "       [ -54.58278288],\n",
       "       [-107.42024615],\n",
       "       [  90.98629789],\n",
       "       [ 306.52911419],\n",
       "       [ -19.31949627]])"
      ]
     },
     "execution_count": 58,
     "metadata": {},
     "output_type": "execute_result"
    }
   ],
   "source": [
    "beta_ridge = ridge.fit_beta(X_train,z_train,lmb = 1)\n",
    "beta_ridge"
   ]
  },
  {
   "cell_type": "code",
   "execution_count": 73,
   "metadata": {},
   "outputs": [
    {
     "data": {
      "text/plain": [
       "array([[-21.30110718],\n",
       "       [-80.32553554],\n",
       "       [ 77.13363727],\n",
       "       [269.08048   ],\n",
       "       [-27.01683842]])"
      ]
     },
     "execution_count": 73,
     "metadata": {},
     "output_type": "execute_result"
    }
   ],
   "source": [
    "sgd = SGD_optimizer(fit_intercept = True, batch_size = 100, n_epochs = 10000,use_momentum= True, gamma = 0.5,regularization = 'l2', lmb = 0.001, lr=0.01)\n",
    "beta_class = sgd.fit(X_train[:,1:],z_train)\n",
    "beta_class"
   ]
  },
  {
   "cell_type": "code",
   "execution_count": 74,
   "metadata": {},
   "outputs": [
    {
     "data": {
      "text/plain": [
       "1263.4228877313233"
      ]
     },
     "execution_count": 74,
     "metadata": {},
     "output_type": "execute_result"
    }
   ],
   "source": [
    "sgd.intercept"
   ]
  },
  {
   "cell_type": "markdown",
   "metadata": {},
   "source": [
    "Ah yes, it's finally working. Seems to be converging better with momentum too. Meaning I can use fewer epochs for same result."
   ]
  },
  {
   "cell_type": "code",
   "execution_count": 86,
   "metadata": {},
   "outputs": [
    {
     "name": "stdout",
     "output_type": "stream",
     "text": [
      "[-21.48849416 -80.63323509  77.63233307 269.03041141 -27.09965576]\n",
      "[1265.06484155]\n"
     ]
    }
   ],
   "source": [
    "sgdreg = SGDRegressor( random_state=10, fit_intercept = True, max_iter = 100000, penalty='l2',alpha=0.001, eta0 = 1,tol=None)\n",
    "sgdreg = sgdreg.fit(X_train[:,1:],z_train.ravel())\n",
    "print(sgdreg.coef_.T)\n",
    "print(sgdreg.intercept_.T)"
   ]
  },
  {
   "cell_type": "code",
   "execution_count": 81,
   "metadata": {},
   "outputs": [
    {
     "name": "stdout",
     "output_type": "stream",
     "text": [
      "[ -61.0797209  -112.77535403   94.08727317  313.17612702  -17.43966092]\n",
      "1279.5173142563249\n"
     ]
    }
   ],
   "source": [
    "ridge_sk = Ridge(alpha=0.001).fit(X_train[:,1:],z_train.ravel())\n",
    "print(ridge_sk.coef_)\n",
    "print(ridge_sk.intercept_)"
   ]
  },
  {
   "cell_type": "code",
   "execution_count": 2,
   "metadata": {},
   "outputs": [
    {
     "data": {
      "text/plain": [
       "(3,)"
      ]
     },
     "execution_count": 2,
     "metadata": {},
     "output_type": "execute_result"
    }
   ],
   "source": [
    "import numpy as np\n",
    "np.asarray([1,2,3]).shape"
   ]
  },
  {
   "cell_type": "code",
   "execution_count": 9,
   "metadata": {},
   "outputs": [],
   "source": [
    "lmbs = np.logspace(-4, 2, 10)\n",
    "sgd = SGD_optimizer(fit_intercept = False, batch_size = 100, n_epochs = 1000,use_momentum= True, gamma = 0.5,regularization = 'l2', lmb = 0.001, lr=0.01)\n",
    "mse_train, mse_test, r2_train,r2_test = evaluate_parameter(X_train,z_train, X_test, z_test, 'lambda', lmbs, sgd)"
   ]
  },
  {
   "cell_type": "code",
   "execution_count": 11,
   "metadata": {},
   "outputs": [
    {
     "data": {
      "text/plain": [
       "array([1014.47635626, 1014.42309565, 1013.7581943 , 1014.47669309,\n",
       "       1016.20174727, 1013.80269602, 1013.72552514, 1012.36998676,\n",
       "       1013.58170006, 1013.06178768])"
      ]
     },
     "execution_count": 11,
     "metadata": {},
     "output_type": "execute_result"
    }
   ],
   "source": []
  },
  {
   "cell_type": "code",
   "execution_count": null,
   "metadata": {},
   "outputs": [],
   "source": []
  }
 ],
 "metadata": {
  "kernelspec": {
   "display_name": "Python 3 (ipykernel)",
   "language": "python",
   "name": "python3"
  },
  "language_info": {
   "codemirror_mode": {
    "name": "ipython",
    "version": 3
   },
   "file_extension": ".py",
   "mimetype": "text/x-python",
   "name": "python",
   "nbconvert_exporter": "python",
   "pygments_lexer": "ipython3",
   "version": "3.8.1"
  }
 },
 "nbformat": 4,
 "nbformat_minor": 4
}
