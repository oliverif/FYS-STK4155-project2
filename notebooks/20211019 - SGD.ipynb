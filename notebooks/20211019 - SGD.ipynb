{
 "cells": [
  {
   "cell_type": "code",
   "execution_count": 12,
   "id": "865cce6f",
   "metadata": {},
   "outputs": [],
   "source": [
    "import autograd.numpy as np\n",
    "from autograd import grad"
   ]
  },
  {
   "cell_type": "code",
   "execution_count": 4,
   "id": "d2741b8a",
   "metadata": {},
   "outputs": [],
   "source": [
    "theta = np.random.randn(2,1)\n",
    "n = 1000\n",
    "x = 2*np.random.rand(n,1)\n",
    "y = 4+3*x+np.random.randn(n,1)\n",
    "\n",
    "X = np.c_[np.ones((n,1)), x]"
   ]
  },
  {
   "cell_type": "code",
   "execution_count": 5,
   "id": "a22b2ffd",
   "metadata": {},
   "outputs": [],
   "source": [
    "def cost(theta):\n",
    "    return 1/n*((y-X@theta).T@(y-X@theta))"
   ]
  },
  {
   "cell_type": "code",
   "execution_count": 6,
   "id": "0471029d",
   "metadata": {},
   "outputs": [
    {
     "data": {
      "text/plain": [
       "array([[-1.53905607],\n",
       "       [-1.32139946]])"
      ]
     },
     "execution_count": 6,
     "metadata": {},
     "output_type": "execute_result"
    }
   ],
   "source": [
    "theta"
   ]
  },
  {
   "cell_type": "code",
   "execution_count": 7,
   "id": "4367b928",
   "metadata": {},
   "outputs": [
    {
     "data": {
      "text/plain": [
       "array([[-19.72984398],\n",
       "       [-22.67833673]])"
      ]
     },
     "execution_count": 7,
     "metadata": {},
     "output_type": "execute_result"
    }
   ],
   "source": [
    "gradients = 2.0/n*X.T @ ((X @ theta)-y)\n",
    "gradients"
   ]
  },
  {
   "cell_type": "code",
   "execution_count": 8,
   "id": "3040eb91",
   "metadata": {},
   "outputs": [
    {
     "name": "stdout",
     "output_type": "stream",
     "text": [
      "[[-19.72984398]\n",
      " [-22.67833673]]\n"
     ]
    }
   ],
   "source": [
    "grad2 = grad(cost)\n",
    "theta\n",
    "print(grad2(theta))"
   ]
  },
  {
   "cell_type": "markdown",
   "id": "d728120b",
   "metadata": {},
   "source": [
    "What we see is that the cost function can simply be defined, and then autgrad can calculate gradients based on current theta. This can be useful in SGD. Would be nice if one could use MSE directly."
   ]
  },
  {
   "cell_type": "code",
   "execution_count": 13,
   "id": "9cc4e847",
   "metadata": {},
   "outputs": [],
   "source": [
    "def MSE(z_data,z_model):\n",
    "    '''\n",
    "    Returns the MSE for z_data and z_model\n",
    "    '''\n",
    "    n = np.size(z_model)\n",
    "    return np.sum((z_data-z_model)**2)/n\n",
    "\n",
    "def cost(z_data, X, theta):\n",
    "    return MSE(z_data,X@theta)"
   ]
  },
  {
   "cell_type": "code",
   "execution_count": 14,
   "id": "f6110b42",
   "metadata": {},
   "outputs": [],
   "source": [
    "grad3 = grad(cost,2)"
   ]
  },
  {
   "cell_type": "code",
   "execution_count": 15,
   "id": "b43caa8c",
   "metadata": {},
   "outputs": [
    {
     "data": {
      "text/plain": [
       "array([[-19.72984398],\n",
       "       [-22.67833673]])"
      ]
     },
     "execution_count": 15,
     "metadata": {},
     "output_type": "execute_result"
    }
   ],
   "source": [
    "grad3(y,X,theta)"
   ]
  },
  {
   "cell_type": "code",
   "execution_count": null,
   "id": "9b100428",
   "metadata": {},
   "outputs": [],
   "source": [
    "theta2 = theta"
   ]
  },
  {
   "cell_type": "code",
   "execution_count": null,
   "id": "262f5f69",
   "metadata": {},
   "outputs": [],
   "source": [
    "theta2 = theta2 - 0.01*grad3(y,X,theta2)\n",
    "theta2"
   ]
  },
  {
   "cell_type": "code",
   "execution_count": null,
   "id": "6323c838",
   "metadata": {},
   "outputs": [],
   "source": []
  }
 ],
 "metadata": {
  "kernelspec": {
   "display_name": "Python 3 (ipykernel)",
   "language": "python",
   "name": "python3"
  },
  "language_info": {
   "codemirror_mode": {
    "name": "ipython",
    "version": 3
   },
   "file_extension": ".py",
   "mimetype": "text/x-python",
   "name": "python",
   "nbconvert_exporter": "python",
   "pygments_lexer": "ipython3",
   "version": "3.8.1"
  }
 },
 "nbformat": 4,
 "nbformat_minor": 5
}
