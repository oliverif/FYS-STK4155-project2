{
 "cells": [
  {
   "cell_type": "code",
   "execution_count": 2,
   "id": "a0aa0627",
   "metadata": {},
   "outputs": [],
   "source": [
    "import autograd.numpy as np\n",
    "from autograd import grad"
   ]
  },
  {
   "cell_type": "code",
   "execution_count": 3,
   "id": "f1a4bb0e",
   "metadata": {},
   "outputs": [],
   "source": [
    "theta = np.random.randn(2,1)\n",
    "n = 1000\n",
    "x = 2*np.random.rand(n,1)\n",
    "y = 4+3*x+np.random.randn(n,1)\n",
    "\n",
    "X = np.c_[np.ones((n,1)), x]"
   ]
  },
  {
   "cell_type": "code",
   "execution_count": 23,
   "id": "9f577d6d",
   "metadata": {},
   "outputs": [],
   "source": [
    "def cost(theta):\n",
    "    return 1/n*((y-X@theta).T@(y-X@theta))"
   ]
  },
  {
   "cell_type": "code",
   "execution_count": 22,
   "id": "69508402",
   "metadata": {},
   "outputs": [
    {
     "data": {
      "text/plain": [
       "array([[-0.01164978],\n",
       "       [-0.32768017]])"
      ]
     },
     "execution_count": 22,
     "metadata": {},
     "output_type": "execute_result"
    }
   ],
   "source": [
    "theta"
   ]
  },
  {
   "cell_type": "code",
   "execution_count": 19,
   "id": "fcd74b47",
   "metadata": {},
   "outputs": [
    {
     "data": {
      "text/plain": [
       "array([[-14.54765472],\n",
       "       [-16.45195485]])"
      ]
     },
     "execution_count": 19,
     "metadata": {},
     "output_type": "execute_result"
    }
   ],
   "source": [
    "gradients = 2.0/n*X.T @ ((X @ theta)-y)\n",
    "gradients"
   ]
  },
  {
   "cell_type": "code",
   "execution_count": 26,
   "id": "e33ee431",
   "metadata": {},
   "outputs": [
    {
     "name": "stdout",
     "output_type": "stream",
     "text": [
      "[[-14.54765472]\n",
      " [-16.45195485]]\n"
     ]
    }
   ],
   "source": [
    "grad2 = grad(cost)\n",
    "theta\n",
    "print(grad2(theta))"
   ]
  },
  {
   "cell_type": "markdown",
   "id": "2ff6bf35",
   "metadata": {},
   "source": [
    "What we see is that the cost function can simply be defined, and then autgrad can calculate gradients based on current theta. This can be useful in SGD. Would be nice if one could use MSE directly."
   ]
  },
  {
   "cell_type": "code",
   "execution_count": 35,
   "id": "512c0b97",
   "metadata": {},
   "outputs": [],
   "source": [
    "def MSE(z_data,z_model):\n",
    "    '''\n",
    "    Returns the MSE for z_data and z_model\n",
    "    '''\n",
    "    n = np.size(z_model)\n",
    "    return np.sum((z_data-z_model)**2)/n\n",
    "\n",
    "def cost(z_data, X, theta):\n",
    "    return MSE(z_data,X@theta)"
   ]
  },
  {
   "cell_type": "code",
   "execution_count": 36,
   "id": "17ac339d",
   "metadata": {},
   "outputs": [],
   "source": [
    "grad3 = grad(cost,2)"
   ]
  },
  {
   "cell_type": "code",
   "execution_count": 37,
   "id": "de1ccc50",
   "metadata": {},
   "outputs": [
    {
     "data": {
      "text/plain": [
       "array([[-14.54765472],\n",
       "       [-16.45195485]])"
      ]
     },
     "execution_count": 37,
     "metadata": {},
     "output_type": "execute_result"
    }
   ],
   "source": [
    "grad3(y,X,theta)"
   ]
  },
  {
   "cell_type": "code",
   "execution_count": null,
   "id": "3b9156f3",
   "metadata": {},
   "outputs": [],
   "source": [
    "theta2 = theta"
   ]
  },
  {
   "cell_type": "code",
   "execution_count": 47,
   "id": "cfa6bd8a",
   "metadata": {},
   "outputs": [
    {
     "data": {
      "text/plain": [
       "array([[11.63939652],\n",
       "       [12.76313384]])"
      ]
     },
     "execution_count": 47,
     "metadata": {},
     "output_type": "execute_result"
    }
   ],
   "source": [
    "theta2 = theta2 - 0.01*grad3(y,X,theta2)\n",
    "theta2"
   ]
  },
  {
   "cell_type": "code",
   "execution_count": null,
   "id": "908b3dbe",
   "metadata": {},
   "outputs": [],
   "source": []
  }
 ],
 "metadata": {
  "kernelspec": {
   "display_name": "Python 3 (ipykernel)",
   "language": "python",
   "name": "python3"
  },
  "language_info": {
   "codemirror_mode": {
    "name": "ipython",
    "version": 3
   },
   "file_extension": ".py",
   "mimetype": "text/x-python",
   "name": "python",
   "nbconvert_exporter": "python",
   "pygments_lexer": "ipython3",
   "version": "3.8.1"
  }
 },
 "nbformat": 4,
 "nbformat_minor": 5
}
