{
 "cells": [
  {
   "cell_type": "markdown",
   "metadata": {},
   "source": [
    "## Activation function tests\n",
    "This notebook aims at testing every defined activation function and their derivatives."
   ]
  },
  {
   "cell_type": "code",
   "execution_count": 1,
   "metadata": {},
   "outputs": [],
   "source": [
    "%load_ext autoreload\n",
    "%autoreload 2\n",
    "import sys\n",
    "sys.path.append('../src/')"
   ]
  },
  {
   "cell_type": "code",
   "execution_count": 27,
   "metadata": {},
   "outputs": [],
   "source": [
    "from modelling.nn import *\n",
    "import matplotlib.pyplot as plt\n",
    "import numpy as np\n",
    "arr = np.linspace(-5,5)"
   ]
  },
  {
   "cell_type": "markdown",
   "metadata": {},
   "source": [
    "#### Sigmoid"
   ]
  },
  {
   "cell_type": "code",
   "execution_count": 28,
   "metadata": {},
   "outputs": [
    {
     "name": "stdout",
     "output_type": "stream",
     "text": [
      "Expected answer: sigmoid(1) = 0.7310, calulated =  0.7310585786300049\n",
      "Expected answer: sigmoid(1000) ~=1, calulated =  1.0\n",
      "Expected answer: sigmoid_derivative(1) = 0.1966, calulated =  0.19661193324148185\n",
      "Expected answer: sigmoid(1000) ~=0, calulated =  0.0\n"
     ]
    },
    {
     "data": {
      "text/plain": [
       "[<matplotlib.lines.Line2D at 0x172a91c52b0>]"
      ]
     },
     "execution_count": 28,
     "metadata": {},
     "output_type": "execute_result"
    },
    {
     "data": {
      "image/png": "[encoded data removed]",
      "text/plain": [
       "<Figure size 432x288 with 1 Axes>"
      ]
     },
     "metadata": {
      "needs_background": "light"
     },
     "output_type": "display_data"
    }
   ],
   "source": [
    "print('Expected answer: sigmoid(1) = 0.7310, calulated = ',sigmoid(1))\n",
    "\n",
    "print('Expected answer: sigmoid(1000) ~=1, calulated = ',sigmoid(1000))\n",
    "\n",
    "print('Expected answer: sigmoid_derivative(1) = 0.1966, calulated = ',sigmoid_derivative(1))\n",
    "\n",
    "print('Expected answer: sigmoid(1000) ~=0, calulated = ',sigmoid_derivative(1000))\n",
    "\n",
    "plt.plot(arr,sigmoid(arr))"
   ]
  },
  {
   "cell_type": "markdown",
   "metadata": {},
   "source": [
    "#### ReLU"
   ]
  },
  {
   "cell_type": "code",
   "execution_count": 31,
   "metadata": {},
   "outputs": [
    {
     "name": "stdout",
     "output_type": "stream",
     "text": [
      "Expected answer: relu(1) = 1, calulated =  1\n",
      "Expected answer: relu(1000) =1000, calulated =  1000\n",
      "Expected answer: relu(-1) =0, calulated =  0\n",
      "Expected answer: relu_derivative(1) = 1, calulated =  1\n",
      "Expected answer: relu_derivative(1000) = 1, calulated =  1\n",
      "Expected answer: relu_derivative(-1) = 0, calulated =  0\n"
     ]
    },
    {
     "data": {
      "text/plain": [
       "[<matplotlib.lines.Line2D at 0x172a93af7c0>]"
      ]
     },
     "execution_count": 31,
     "metadata": {},
     "output_type": "execute_result"
    },
    {
     "data": {
      "image/png": "[encoded data removed]",
      "text/plain": [
       "<Figure size 432x288 with 1 Axes>"
      ]
     },
     "metadata": {
      "needs_background": "light"
     },
     "output_type": "display_data"
    }
   ],
   "source": [
    "print('Expected answer: relu(1) = 1, calulated = ',relu(1))\n",
    "\n",
    "print('Expected answer: relu(1000) =1000, calulated = ',relu(1000))\n",
    "\n",
    "print('Expected answer: relu(-1) =0, calulated = ',relu(-1))\n",
    "\n",
    "print('Expected answer: relu_derivative(1) = 1, calulated = ',relu_derivative(1))\n",
    "\n",
    "print('Expected answer: relu_derivative(1000) = 1, calulated = ',relu_derivative(1000))\n",
    "\n",
    "print('Expected answer: relu_derivative(-1) = 0, calulated = ',relu_derivative(-1))\n",
    "plt.plot(arr,relu(arr))"
   ]
  },
  {
   "cell_type": "markdown",
   "metadata": {},
   "source": [
    "#### LeakyReLU"
   ]
  },
  {
   "cell_type": "code",
   "execution_count": 39,
   "metadata": {},
   "outputs": [
    {
     "name": "stdout",
     "output_type": "stream",
     "text": [
      "Expected answer: leakyrelu(1) = 1, calulated =  1.0\n",
      "Expected answer: leakyrelu(1000) =1000, calulated =  1000.0\n",
      "Expected answer: leakyrelu(-1) =-0.01, calulated =  -0.01\n",
      "Expected answer: leakyrelu_derivative(1) = 1, calulated =  1.0\n",
      "Expected answer: leakyrelu_derivative(1000) = 1, calulated =  1.0\n",
      "Expected answer: leakyrelu(-1) = 0.01, calulated =  0.01\n"
     ]
    },
    {
     "data": {
      "text/plain": [
       "[<matplotlib.lines.Line2D at 0x172a9657940>]"
      ]
     },
     "execution_count": 39,
     "metadata": {},
     "output_type": "execute_result"
    },
    {
     "data": {
      "image/png": "[encoded data removed]",
      "text/plain": [
       "<Figure size 432x288 with 1 Axes>"
      ]
     },
     "metadata": {
      "needs_background": "light"
     },
     "output_type": "display_data"
    }
   ],
   "source": [
    "print('Expected answer: leakyrelu(1) = 1, calulated = ',leakyrelu(1))\n",
    "\n",
    "print('Expected answer: leakyrelu(1000) =1000, calulated = ',leakyrelu(1000))\n",
    "\n",
    "print('Expected answer: leakyrelu(-1) =-0.01, calulated = ',leakyrelu(-1))\n",
    "\n",
    "print('Expected answer: leakyrelu_derivative(1) = 1, calulated = ',leakyrelu_derivative(1))\n",
    "\n",
    "print('Expected answer: leakyrelu_derivative(1000) = 1, calulated = ',leakyrelu_derivative(1000))\n",
    "\n",
    "print('Expected answer: leakyrelu(-1) = 0.01, calulated = ',leakyrelu_derivative(-1))\n",
    "plt.plot(arr,leakyrelu(arr))"
   ]
  },
  {
   "cell_type": "markdown",
   "metadata": {},
   "source": [
    "#### Softmax"
   ]
  },
  {
   "cell_type": "code",
   "execution_count": null,
   "metadata": {},
   "outputs": [],
   "source": [
    "print('Expected answer: softmax(1) = 1, calulated = ',softmax(1))\n",
    "\n",
    "print('Expected answer: softmax(1000) =1000, calulated = ',softmax(1000))\n",
    "\n",
    "print('Expected answer: softmax(-1) =-0.01, calulated = ',softmax(-1))\n",
    "\n",
    "print('Expected answer: softmax_derivative(1) = 1, calulated = ',softmax_derivative(1))\n",
    "\n",
    "print('Expected answer: softmax_derivative(1000) = 1, calulated = ',softmax_derivative(1000))\n",
    "\n",
    "print('Expected answer: softmax(-1) = 0.01, calulated = ',softmax_derivative(-1))\n",
    "plt.plot(arr,leakyrelu(arr))"
   ]
  }
 ],
 "metadata": {
  "kernelspec": {
   "display_name": "Python 3",
   "language": "python",
   "name": "python3"
  },
  "language_info": {
   "codemirror_mode": {
    "name": "ipython",
    "version": 3
   },
   "file_extension": ".py",
   "mimetype": "text/x-python",
   "name": "python",
   "nbconvert_exporter": "python",
   "pygments_lexer": "ipython3",
   "version": "3.9.1"
  }
 },
 "nbformat": 4,
 "nbformat_minor": 4
}
